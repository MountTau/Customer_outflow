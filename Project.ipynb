{
 "cells": [
  {
   "cell_type": "markdown",
   "metadata": {
    "toc": true
   },
   "source": [
    "<h1>Содержание<span class=\"tocSkip\"></span></h1>\n",
    "<div class=\"toc\"><ul class=\"toc-item\"><li><span><a href=\"#Подготовка-данных\" data-toc-modified-id=\"Подготовка-данных-1\"><span class=\"toc-item-num\">1&nbsp;&nbsp;</span>Подготовка данных</a></span></li><li><span><a href=\"#Исследование-задачи\" data-toc-modified-id=\"Исследование-задачи-2\"><span class=\"toc-item-num\">2&nbsp;&nbsp;</span>Исследование задачи</a></span><ul class=\"toc-item\"><li><span><a href=\"#Решающее-дерево\" data-toc-modified-id=\"Решающее-дерево-2.1\"><span class=\"toc-item-num\">2.1&nbsp;&nbsp;</span>Решающее дерево</a></span></li><li><span><a href=\"#Случайный-лес\" data-toc-modified-id=\"Случайный-лес-2.2\"><span class=\"toc-item-num\">2.2&nbsp;&nbsp;</span>Случайный лес</a></span></li><li><span><a href=\"#Логистическая-регрессия\" data-toc-modified-id=\"Логистическая-регрессия-2.3\"><span class=\"toc-item-num\">2.3&nbsp;&nbsp;</span>Логистическая регрессия</a></span></li></ul></li><li><span><a href=\"#Борьба-с-дисбалансом\" data-toc-modified-id=\"Борьба-с-дисбалансом-3\"><span class=\"toc-item-num\">3&nbsp;&nbsp;</span>Борьба с дисбалансом</a></span><ul class=\"toc-item\"><li><span><a href=\"#Сбалансированный-вес-класса\" data-toc-modified-id=\"Сбалансированный-вес-класса-3.1\"><span class=\"toc-item-num\">3.1&nbsp;&nbsp;</span>Сбалансированный вес класса</a></span><ul class=\"toc-item\"><li><span><a href=\"#Дерево-решений\" data-toc-modified-id=\"Дерево-решений-3.1.1\"><span class=\"toc-item-num\">3.1.1&nbsp;&nbsp;</span>Дерево решений</a></span></li><li><span><a href=\"#Случайный-лес\" data-toc-modified-id=\"Случайный-лес-3.1.2\"><span class=\"toc-item-num\">3.1.2&nbsp;&nbsp;</span>Случайный лес</a></span></li><li><span><a href=\"#Логистическая-регрессия\" data-toc-modified-id=\"Логистическая-регрессия-3.1.3\"><span class=\"toc-item-num\">3.1.3&nbsp;&nbsp;</span>Логистическая регрессия</a></span></li></ul></li><li><span><a href=\"#Увеличение-выборки\" data-toc-modified-id=\"Увеличение-выборки-3.2\"><span class=\"toc-item-num\">3.2&nbsp;&nbsp;</span>Увеличение выборки</a></span><ul class=\"toc-item\"><li><span><a href=\"#Дерево-решений\" data-toc-modified-id=\"Дерево-решений-3.2.1\"><span class=\"toc-item-num\">3.2.1&nbsp;&nbsp;</span>Дерево решений</a></span></li><li><span><a href=\"#Случайный-лес\" data-toc-modified-id=\"Случайный-лес-3.2.2\"><span class=\"toc-item-num\">3.2.2&nbsp;&nbsp;</span>Случайный лес</a></span></li><li><span><a href=\"#Логистическая-регрессия\" data-toc-modified-id=\"Логистическая-регрессия-3.2.3\"><span class=\"toc-item-num\">3.2.3&nbsp;&nbsp;</span>Логистическая регрессия</a></span></li></ul></li><li><span><a href=\"#Уменьшение-выборки\" data-toc-modified-id=\"Уменьшение-выборки-3.3\"><span class=\"toc-item-num\">3.3&nbsp;&nbsp;</span>Уменьшение выборки</a></span><ul class=\"toc-item\"><li><span><a href=\"#Дерево-решений\" data-toc-modified-id=\"Дерево-решений-3.3.1\"><span class=\"toc-item-num\">3.3.1&nbsp;&nbsp;</span>Дерево решений</a></span></li><li><span><a href=\"#Случайный-лес\" data-toc-modified-id=\"Случайный-лес-3.3.2\"><span class=\"toc-item-num\">3.3.2&nbsp;&nbsp;</span>Случайный лес</a></span></li><li><span><a href=\"#Логистическая-регрессия\" data-toc-modified-id=\"Логистическая-регрессия-3.3.3\"><span class=\"toc-item-num\">3.3.3&nbsp;&nbsp;</span>Логистическая регрессия</a></span></li></ul></li></ul></li><li><span><a href=\"#Тестирование-модели\" data-toc-modified-id=\"Тестирование-модели-4\"><span class=\"toc-item-num\">4&nbsp;&nbsp;</span>Тестирование модели</a></span><ul class=\"toc-item\"><li><span><a href=\"#Модель-случайного-леса-при-сбалансированном-весе.\" data-toc-modified-id=\"Модель-случайного-леса-при-сбалансированном-весе.-4.1\"><span class=\"toc-item-num\">4.1&nbsp;&nbsp;</span>Модель случайного леса при сбалансированном весе.</a></span></li><li><span><a href=\"#Модель-случайного-леса-при-увеличении-выборки.\" data-toc-modified-id=\"Модель-случайного-леса-при-увеличении-выборки.-4.2\"><span class=\"toc-item-num\">4.2&nbsp;&nbsp;</span>Модель случайного леса при увеличении выборки.</a></span></li><li><span><a href=\"#Сравнение-модели-со-случайной\" data-toc-modified-id=\"Сравнение-модели-со-случайной-4.3\"><span class=\"toc-item-num\">4.3&nbsp;&nbsp;</span>Сравнение модели со случайной</a></span></li></ul></li><li><span><a href=\"#Чек-лист-готовности-проекта\" data-toc-modified-id=\"Чек-лист-готовности-проекта-5\"><span class=\"toc-item-num\">5&nbsp;&nbsp;</span>Чек-лист готовности проекта</a></span></li></ul></div>"
   ]
  },
  {
   "cell_type": "markdown",
   "metadata": {},
   "source": [
    "# Отток клиентов"
   ]
  },
  {
   "cell_type": "markdown",
   "metadata": {},
   "source": [
    "Из «Бета-Банка» стали уходить клиенты. Каждый месяц. Немного, но заметно. Банковские маркетологи посчитали: сохранять текущих клиентов дешевле, чем привлекать новых.\n",
    "\n",
    "Нужно спрогнозировать, уйдёт клиент из банка в ближайшее время или нет. Вам предоставлены исторические данные о поведении клиентов и расторжении договоров с банком. \n",
    "\n",
    "Постройте модель с предельно большим значением *F1*-меры. Чтобы сдать проект успешно, нужно довести метрику до 0.59. Проверьте *F1*-меру на тестовой выборке самостоятельно.\n",
    "\n",
    "Дополнительно измеряйте *AUC-ROC*, сравнивайте её значение с *F1*-мерой.\n",
    "\n",
    "Источник данных: [https://www.kaggle.com/barelydedicated/bank-customer-churn-modeling](https://www.kaggle.com/barelydedicated/bank-customer-churn-modeling)"
   ]
  },
  {
   "cell_type": "markdown",
   "metadata": {},
   "source": [
    "## Подготовка данных"
   ]
  },
  {
   "cell_type": "code",
   "execution_count": 1,
   "metadata": {
    "scrolled": true
   },
   "outputs": [],
   "source": [
    "# Импорт библиотек.\n",
    "import pandas as pd\n",
    "import numpy as np\n",
    "import seaborn as sns \n",
    "import matplotlib.pyplot as plt\n",
    "import random\n",
    "\n",
    "from sklearn.model_selection import train_test_split\n",
    "\n",
    "from sklearn.preprocessing import StandardScaler\n",
    "\n",
    "from sklearn.tree import DecisionTreeClassifier\n",
    "from sklearn.ensemble import RandomForestClassifier\n",
    "from sklearn.linear_model import LogisticRegression\n",
    "\n",
    "from sklearn.metrics import accuracy_score\n",
    "from sklearn.metrics import precision_score\n",
    "from sklearn.metrics import recall_score \n",
    "from sklearn.metrics import roc_auc_score\n",
    "from sklearn.metrics import roc_curve\n",
    "from sklearn.metrics import f1_score\n",
    "from sklearn.metrics import precision_recall_curve\n",
    "\n",
    "from sklearn.utils import shuffle\n"
   ]
  },
  {
   "cell_type": "code",
   "execution_count": 2,
   "metadata": {},
   "outputs": [],
   "source": [
    "# Чтение файла с данными и сохранение в tariff.\n",
    "clients = pd.read_csv('Customer.csv')"
   ]
  },
  {
   "cell_type": "code",
   "execution_count": 3,
   "metadata": {
    "scrolled": false
   },
   "outputs": [
    {
     "data": {
      "text/html": [
       "<div>\n",
       "<style scoped>\n",
       "    .dataframe tbody tr th:only-of-type {\n",
       "        vertical-align: middle;\n",
       "    }\n",
       "\n",
       "    .dataframe tbody tr th {\n",
       "        vertical-align: top;\n",
       "    }\n",
       "\n",
       "    .dataframe thead th {\n",
       "        text-align: right;\n",
       "    }\n",
       "</style>\n",
       "<table border=\"1\" class=\"dataframe\">\n",
       "  <thead>\n",
       "    <tr style=\"text-align: right;\">\n",
       "      <th></th>\n",
       "      <th>RowNumber</th>\n",
       "      <th>CustomerId</th>\n",
       "      <th>Surname</th>\n",
       "      <th>CreditScore</th>\n",
       "      <th>Geography</th>\n",
       "      <th>Gender</th>\n",
       "      <th>Age</th>\n",
       "      <th>Tenure</th>\n",
       "      <th>Balance</th>\n",
       "      <th>NumOfProducts</th>\n",
       "      <th>HasCrCard</th>\n",
       "      <th>IsActiveMember</th>\n",
       "      <th>EstimatedSalary</th>\n",
       "      <th>Exited</th>\n",
       "    </tr>\n",
       "  </thead>\n",
       "  <tbody>\n",
       "    <tr>\n",
       "      <th>0</th>\n",
       "      <td>1</td>\n",
       "      <td>15634602</td>\n",
       "      <td>Hargrave</td>\n",
       "      <td>619</td>\n",
       "      <td>France</td>\n",
       "      <td>Female</td>\n",
       "      <td>42</td>\n",
       "      <td>2</td>\n",
       "      <td>0.00</td>\n",
       "      <td>1</td>\n",
       "      <td>1</td>\n",
       "      <td>1</td>\n",
       "      <td>101348.88</td>\n",
       "      <td>1</td>\n",
       "    </tr>\n",
       "    <tr>\n",
       "      <th>1</th>\n",
       "      <td>2</td>\n",
       "      <td>15647311</td>\n",
       "      <td>Hill</td>\n",
       "      <td>608</td>\n",
       "      <td>Spain</td>\n",
       "      <td>Female</td>\n",
       "      <td>41</td>\n",
       "      <td>1</td>\n",
       "      <td>83807.86</td>\n",
       "      <td>1</td>\n",
       "      <td>0</td>\n",
       "      <td>1</td>\n",
       "      <td>112542.58</td>\n",
       "      <td>0</td>\n",
       "    </tr>\n",
       "    <tr>\n",
       "      <th>2</th>\n",
       "      <td>3</td>\n",
       "      <td>15619304</td>\n",
       "      <td>Onio</td>\n",
       "      <td>502</td>\n",
       "      <td>France</td>\n",
       "      <td>Female</td>\n",
       "      <td>42</td>\n",
       "      <td>8</td>\n",
       "      <td>159660.80</td>\n",
       "      <td>3</td>\n",
       "      <td>1</td>\n",
       "      <td>0</td>\n",
       "      <td>113931.57</td>\n",
       "      <td>1</td>\n",
       "    </tr>\n",
       "    <tr>\n",
       "      <th>3</th>\n",
       "      <td>4</td>\n",
       "      <td>15701354</td>\n",
       "      <td>Boni</td>\n",
       "      <td>699</td>\n",
       "      <td>France</td>\n",
       "      <td>Female</td>\n",
       "      <td>39</td>\n",
       "      <td>1</td>\n",
       "      <td>0.00</td>\n",
       "      <td>2</td>\n",
       "      <td>0</td>\n",
       "      <td>0</td>\n",
       "      <td>93826.63</td>\n",
       "      <td>0</td>\n",
       "    </tr>\n",
       "    <tr>\n",
       "      <th>4</th>\n",
       "      <td>5</td>\n",
       "      <td>15737888</td>\n",
       "      <td>Mitchell</td>\n",
       "      <td>850</td>\n",
       "      <td>Spain</td>\n",
       "      <td>Female</td>\n",
       "      <td>43</td>\n",
       "      <td>2</td>\n",
       "      <td>125510.82</td>\n",
       "      <td>1</td>\n",
       "      <td>1</td>\n",
       "      <td>1</td>\n",
       "      <td>79084.10</td>\n",
       "      <td>0</td>\n",
       "    </tr>\n",
       "  </tbody>\n",
       "</table>\n",
       "</div>"
      ],
      "text/plain": [
       "   RowNumber  CustomerId   Surname  CreditScore Geography  Gender  Age  \\\n",
       "0          1    15634602  Hargrave          619    France  Female   42   \n",
       "1          2    15647311      Hill          608     Spain  Female   41   \n",
       "2          3    15619304      Onio          502    France  Female   42   \n",
       "3          4    15701354      Boni          699    France  Female   39   \n",
       "4          5    15737888  Mitchell          850     Spain  Female   43   \n",
       "\n",
       "   Tenure    Balance  NumOfProducts  HasCrCard  IsActiveMember  \\\n",
       "0       2       0.00              1          1               1   \n",
       "1       1   83807.86              1          0               1   \n",
       "2       8  159660.80              3          1               0   \n",
       "3       1       0.00              2          0               0   \n",
       "4       2  125510.82              1          1               1   \n",
       "\n",
       "   EstimatedSalary  Exited  \n",
       "0        101348.88       1  \n",
       "1        112542.58       0  \n",
       "2        113931.57       1  \n",
       "3         93826.63       0  \n",
       "4         79084.10       0  "
      ]
     },
     "metadata": {},
     "output_type": "display_data"
    },
    {
     "name": "stdout",
     "output_type": "stream",
     "text": [
      "<class 'pandas.core.frame.DataFrame'>\n",
      "RangeIndex: 10000 entries, 0 to 9999\n",
      "Data columns (total 14 columns):\n",
      " #   Column           Non-Null Count  Dtype  \n",
      "---  ------           --------------  -----  \n",
      " 0   RowNumber        10000 non-null  int64  \n",
      " 1   CustomerId       10000 non-null  int64  \n",
      " 2   Surname          10000 non-null  object \n",
      " 3   CreditScore      10000 non-null  int64  \n",
      " 4   Geography        10000 non-null  object \n",
      " 5   Gender           10000 non-null  object \n",
      " 6   Age              10000 non-null  int64  \n",
      " 7   Tenure           10000 non-null  int64  \n",
      " 8   Balance          10000 non-null  float64\n",
      " 9   NumOfProducts    10000 non-null  int64  \n",
      " 10  HasCrCard        10000 non-null  int64  \n",
      " 11  IsActiveMember   10000 non-null  int64  \n",
      " 12  EstimatedSalary  10000 non-null  float64\n",
      " 13  Exited           10000 non-null  int64  \n",
      "dtypes: float64(2), int64(9), object(3)\n",
      "memory usage: 1.1+ MB\n"
     ]
    },
    {
     "data": {
      "text/plain": [
       "None"
      ]
     },
     "metadata": {},
     "output_type": "display_data"
    }
   ],
   "source": [
    "# Получение первых 5 строк таблицы tariff и общую информацию о данных в таблице.\n",
    "display(clients.head())\n",
    "display(clients.info())"
   ]
  },
  {
   "cell_type": "markdown",
   "metadata": {},
   "source": [
    "Признаки:\n",
    "- RowNumber — индекс строки в данных\n",
    "- CustomerId — уникальный идентификатор клиента\n",
    "- Surname — фамилия\n",
    "- CreditScore — кредитный рейтинг\n",
    "- Geography — страна проживания\n",
    "- Gender — пол\n",
    "- Age — возраст\n",
    "- Tenure — сколько лет человек является клиентом банка\n",
    "- Balance — баланс на счёте\n",
    "- NumOfProducts — количество продуктов банка, используемых клиентом\n",
    "- HasCrCard — наличие кредитной карты\n",
    "- IsActiveMember — активность клиента\n",
    "- EstimatedSalary — предполагаемая зарплата\n",
    "\n",
    "Целевой признак:\n",
    "- Exited — факт ухода клиента"
   ]
  },
  {
   "cell_type": "code",
   "execution_count": 4,
   "metadata": {
    "scrolled": false
   },
   "outputs": [
    {
     "data": {
      "text/html": [
       "<div>\n",
       "<style scoped>\n",
       "    .dataframe tbody tr th:only-of-type {\n",
       "        vertical-align: middle;\n",
       "    }\n",
       "\n",
       "    .dataframe tbody tr th {\n",
       "        vertical-align: top;\n",
       "    }\n",
       "\n",
       "    .dataframe thead th {\n",
       "        text-align: right;\n",
       "    }\n",
       "</style>\n",
       "<table border=\"1\" class=\"dataframe\">\n",
       "  <thead>\n",
       "    <tr style=\"text-align: right;\">\n",
       "      <th></th>\n",
       "      <th>RowNumber</th>\n",
       "      <th>CustomerId</th>\n",
       "      <th>CreditScore</th>\n",
       "      <th>Age</th>\n",
       "      <th>Tenure</th>\n",
       "      <th>Balance</th>\n",
       "      <th>NumOfProducts</th>\n",
       "      <th>HasCrCard</th>\n",
       "      <th>IsActiveMember</th>\n",
       "      <th>EstimatedSalary</th>\n",
       "      <th>Exited</th>\n",
       "    </tr>\n",
       "  </thead>\n",
       "  <tbody>\n",
       "    <tr>\n",
       "      <th>count</th>\n",
       "      <td>10000.00000</td>\n",
       "      <td>1.000000e+04</td>\n",
       "      <td>10000.000000</td>\n",
       "      <td>10000.000000</td>\n",
       "      <td>10000.000000</td>\n",
       "      <td>10000.000000</td>\n",
       "      <td>10000.000000</td>\n",
       "      <td>10000.00000</td>\n",
       "      <td>10000.000000</td>\n",
       "      <td>10000.000000</td>\n",
       "      <td>10000.000000</td>\n",
       "    </tr>\n",
       "    <tr>\n",
       "      <th>mean</th>\n",
       "      <td>5000.50000</td>\n",
       "      <td>1.569094e+07</td>\n",
       "      <td>650.528800</td>\n",
       "      <td>38.921800</td>\n",
       "      <td>5.012800</td>\n",
       "      <td>76485.889288</td>\n",
       "      <td>1.530200</td>\n",
       "      <td>0.70550</td>\n",
       "      <td>0.515100</td>\n",
       "      <td>100090.239881</td>\n",
       "      <td>0.203700</td>\n",
       "    </tr>\n",
       "    <tr>\n",
       "      <th>std</th>\n",
       "      <td>2886.89568</td>\n",
       "      <td>7.193619e+04</td>\n",
       "      <td>96.653299</td>\n",
       "      <td>10.487806</td>\n",
       "      <td>2.892174</td>\n",
       "      <td>62397.405202</td>\n",
       "      <td>0.581654</td>\n",
       "      <td>0.45584</td>\n",
       "      <td>0.499797</td>\n",
       "      <td>57510.492818</td>\n",
       "      <td>0.402769</td>\n",
       "    </tr>\n",
       "    <tr>\n",
       "      <th>min</th>\n",
       "      <td>1.00000</td>\n",
       "      <td>1.556570e+07</td>\n",
       "      <td>350.000000</td>\n",
       "      <td>18.000000</td>\n",
       "      <td>0.000000</td>\n",
       "      <td>0.000000</td>\n",
       "      <td>1.000000</td>\n",
       "      <td>0.00000</td>\n",
       "      <td>0.000000</td>\n",
       "      <td>11.580000</td>\n",
       "      <td>0.000000</td>\n",
       "    </tr>\n",
       "    <tr>\n",
       "      <th>25%</th>\n",
       "      <td>2500.75000</td>\n",
       "      <td>1.562853e+07</td>\n",
       "      <td>584.000000</td>\n",
       "      <td>32.000000</td>\n",
       "      <td>3.000000</td>\n",
       "      <td>0.000000</td>\n",
       "      <td>1.000000</td>\n",
       "      <td>0.00000</td>\n",
       "      <td>0.000000</td>\n",
       "      <td>51002.110000</td>\n",
       "      <td>0.000000</td>\n",
       "    </tr>\n",
       "    <tr>\n",
       "      <th>50%</th>\n",
       "      <td>5000.50000</td>\n",
       "      <td>1.569074e+07</td>\n",
       "      <td>652.000000</td>\n",
       "      <td>37.000000</td>\n",
       "      <td>5.000000</td>\n",
       "      <td>97198.540000</td>\n",
       "      <td>1.000000</td>\n",
       "      <td>1.00000</td>\n",
       "      <td>1.000000</td>\n",
       "      <td>100193.915000</td>\n",
       "      <td>0.000000</td>\n",
       "    </tr>\n",
       "    <tr>\n",
       "      <th>75%</th>\n",
       "      <td>7500.25000</td>\n",
       "      <td>1.575323e+07</td>\n",
       "      <td>718.000000</td>\n",
       "      <td>44.000000</td>\n",
       "      <td>7.000000</td>\n",
       "      <td>127644.240000</td>\n",
       "      <td>2.000000</td>\n",
       "      <td>1.00000</td>\n",
       "      <td>1.000000</td>\n",
       "      <td>149388.247500</td>\n",
       "      <td>0.000000</td>\n",
       "    </tr>\n",
       "    <tr>\n",
       "      <th>max</th>\n",
       "      <td>10000.00000</td>\n",
       "      <td>1.581569e+07</td>\n",
       "      <td>850.000000</td>\n",
       "      <td>92.000000</td>\n",
       "      <td>10.000000</td>\n",
       "      <td>250898.090000</td>\n",
       "      <td>4.000000</td>\n",
       "      <td>1.00000</td>\n",
       "      <td>1.000000</td>\n",
       "      <td>199992.480000</td>\n",
       "      <td>1.000000</td>\n",
       "    </tr>\n",
       "  </tbody>\n",
       "</table>\n",
       "</div>"
      ],
      "text/plain": [
       "         RowNumber    CustomerId   CreditScore           Age        Tenure  \\\n",
       "count  10000.00000  1.000000e+04  10000.000000  10000.000000  10000.000000   \n",
       "mean    5000.50000  1.569094e+07    650.528800     38.921800      5.012800   \n",
       "std     2886.89568  7.193619e+04     96.653299     10.487806      2.892174   \n",
       "min        1.00000  1.556570e+07    350.000000     18.000000      0.000000   \n",
       "25%     2500.75000  1.562853e+07    584.000000     32.000000      3.000000   \n",
       "50%     5000.50000  1.569074e+07    652.000000     37.000000      5.000000   \n",
       "75%     7500.25000  1.575323e+07    718.000000     44.000000      7.000000   \n",
       "max    10000.00000  1.581569e+07    850.000000     92.000000     10.000000   \n",
       "\n",
       "             Balance  NumOfProducts    HasCrCard  IsActiveMember  \\\n",
       "count   10000.000000   10000.000000  10000.00000    10000.000000   \n",
       "mean    76485.889288       1.530200      0.70550        0.515100   \n",
       "std     62397.405202       0.581654      0.45584        0.499797   \n",
       "min         0.000000       1.000000      0.00000        0.000000   \n",
       "25%         0.000000       1.000000      0.00000        0.000000   \n",
       "50%     97198.540000       1.000000      1.00000        1.000000   \n",
       "75%    127644.240000       2.000000      1.00000        1.000000   \n",
       "max    250898.090000       4.000000      1.00000        1.000000   \n",
       "\n",
       "       EstimatedSalary        Exited  \n",
       "count     10000.000000  10000.000000  \n",
       "mean     100090.239881      0.203700  \n",
       "std       57510.492818      0.402769  \n",
       "min          11.580000      0.000000  \n",
       "25%       51002.110000      0.000000  \n",
       "50%      100193.915000      0.000000  \n",
       "75%      149388.247500      0.000000  \n",
       "max      199992.480000      1.000000  "
      ]
     },
     "execution_count": 4,
     "metadata": {},
     "output_type": "execute_result"
    }
   ],
   "source": [
    "# общие характеристики и проверка на наличие выбивающихся значений\n",
    "clients.describe()"
   ]
  },
  {
   "cell_type": "markdown",
   "metadata": {},
   "source": [
    "Посмотрев общие характеристики, можно сделать вывод о том, что:\n",
    "- максимальный возраст клиента банка 92 года;\n",
    "- среднее и медиана количества лет, которыми люди являются клиентами банка, практически равны и составляет 5 лет;\n",
    "- 25% клиентов банка не имеют на счету денежных средств. Если данные люди являются клиентами банка, то они не интересны банку, так как не приносят прибыли;\n",
    "- минимальная зарплата 11.58, что является странным значением, так как среднее 100090 и медина 100193 практически равны."
   ]
  },
  {
   "cell_type": "markdown",
   "metadata": {},
   "source": [
    "В таблице имеются данные, которые необходимо обработать:\n",
    "- столбцы `RowNumber, CustomerId, Surname` не имеют значения для исследования, поэтому их можно удалить;\n",
    "- в столбце `Tenure` имеются пропуски, их нужно либо заполнить, либо удалить пропуски или удалить весь столбец, если он не имеет значения;\n",
    "- в столбцах `Geography, Gender` находятся категориальные признаки, их необходимо преобразовать техникой OHE;\n",
    "- столбцы `CreditScore, Age, Tenur, Balance, NumOfProducts, EstimatedSalary` необходимо масштабировать."
   ]
  },
  {
   "cell_type": "code",
   "execution_count": 5,
   "metadata": {},
   "outputs": [],
   "source": [
    "# Удаляем столбцы RowNumber, CustomerId, Surname\n",
    "clients = clients.drop(['RowNumber', 'CustomerId', 'Surname'], axis=1)"
   ]
  },
  {
   "cell_type": "code",
   "execution_count": 6,
   "metadata": {
    "scrolled": false
   },
   "outputs": [
    {
     "data": {
      "text/html": [
       "<div>\n",
       "<style scoped>\n",
       "    .dataframe tbody tr th:only-of-type {\n",
       "        vertical-align: middle;\n",
       "    }\n",
       "\n",
       "    .dataframe tbody tr th {\n",
       "        vertical-align: top;\n",
       "    }\n",
       "\n",
       "    .dataframe thead th {\n",
       "        text-align: right;\n",
       "    }\n",
       "</style>\n",
       "<table border=\"1\" class=\"dataframe\">\n",
       "  <thead>\n",
       "    <tr style=\"text-align: right;\">\n",
       "      <th></th>\n",
       "      <th>CreditScore</th>\n",
       "      <th>Age</th>\n",
       "      <th>Tenure</th>\n",
       "      <th>Balance</th>\n",
       "      <th>NumOfProducts</th>\n",
       "      <th>HasCrCard</th>\n",
       "      <th>IsActiveMember</th>\n",
       "      <th>EstimatedSalary</th>\n",
       "      <th>Exited</th>\n",
       "    </tr>\n",
       "  </thead>\n",
       "  <tbody>\n",
       "    <tr>\n",
       "      <th>CreditScore</th>\n",
       "      <td>1.000000</td>\n",
       "      <td>-0.003965</td>\n",
       "      <td>0.000842</td>\n",
       "      <td>0.006268</td>\n",
       "      <td>0.012238</td>\n",
       "      <td>-0.005458</td>\n",
       "      <td>0.025651</td>\n",
       "      <td>-0.001384</td>\n",
       "      <td>-0.027094</td>\n",
       "    </tr>\n",
       "    <tr>\n",
       "      <th>Age</th>\n",
       "      <td>-0.003965</td>\n",
       "      <td>1.000000</td>\n",
       "      <td>-0.009997</td>\n",
       "      <td>0.028308</td>\n",
       "      <td>-0.030680</td>\n",
       "      <td>-0.011721</td>\n",
       "      <td>0.085472</td>\n",
       "      <td>-0.007201</td>\n",
       "      <td>0.285323</td>\n",
       "    </tr>\n",
       "    <tr>\n",
       "      <th>Tenure</th>\n",
       "      <td>0.000842</td>\n",
       "      <td>-0.009997</td>\n",
       "      <td>1.000000</td>\n",
       "      <td>-0.012254</td>\n",
       "      <td>0.013444</td>\n",
       "      <td>0.022583</td>\n",
       "      <td>-0.028362</td>\n",
       "      <td>0.007784</td>\n",
       "      <td>-0.014001</td>\n",
       "    </tr>\n",
       "    <tr>\n",
       "      <th>Balance</th>\n",
       "      <td>0.006268</td>\n",
       "      <td>0.028308</td>\n",
       "      <td>-0.012254</td>\n",
       "      <td>1.000000</td>\n",
       "      <td>-0.304180</td>\n",
       "      <td>-0.014858</td>\n",
       "      <td>-0.010084</td>\n",
       "      <td>0.012797</td>\n",
       "      <td>0.118533</td>\n",
       "    </tr>\n",
       "    <tr>\n",
       "      <th>NumOfProducts</th>\n",
       "      <td>0.012238</td>\n",
       "      <td>-0.030680</td>\n",
       "      <td>0.013444</td>\n",
       "      <td>-0.304180</td>\n",
       "      <td>1.000000</td>\n",
       "      <td>0.003183</td>\n",
       "      <td>0.009612</td>\n",
       "      <td>0.014204</td>\n",
       "      <td>-0.047820</td>\n",
       "    </tr>\n",
       "    <tr>\n",
       "      <th>HasCrCard</th>\n",
       "      <td>-0.005458</td>\n",
       "      <td>-0.011721</td>\n",
       "      <td>0.022583</td>\n",
       "      <td>-0.014858</td>\n",
       "      <td>0.003183</td>\n",
       "      <td>1.000000</td>\n",
       "      <td>-0.011866</td>\n",
       "      <td>-0.009933</td>\n",
       "      <td>-0.007138</td>\n",
       "    </tr>\n",
       "    <tr>\n",
       "      <th>IsActiveMember</th>\n",
       "      <td>0.025651</td>\n",
       "      <td>0.085472</td>\n",
       "      <td>-0.028362</td>\n",
       "      <td>-0.010084</td>\n",
       "      <td>0.009612</td>\n",
       "      <td>-0.011866</td>\n",
       "      <td>1.000000</td>\n",
       "      <td>-0.011421</td>\n",
       "      <td>-0.156128</td>\n",
       "    </tr>\n",
       "    <tr>\n",
       "      <th>EstimatedSalary</th>\n",
       "      <td>-0.001384</td>\n",
       "      <td>-0.007201</td>\n",
       "      <td>0.007784</td>\n",
       "      <td>0.012797</td>\n",
       "      <td>0.014204</td>\n",
       "      <td>-0.009933</td>\n",
       "      <td>-0.011421</td>\n",
       "      <td>1.000000</td>\n",
       "      <td>0.012097</td>\n",
       "    </tr>\n",
       "    <tr>\n",
       "      <th>Exited</th>\n",
       "      <td>-0.027094</td>\n",
       "      <td>0.285323</td>\n",
       "      <td>-0.014001</td>\n",
       "      <td>0.118533</td>\n",
       "      <td>-0.047820</td>\n",
       "      <td>-0.007138</td>\n",
       "      <td>-0.156128</td>\n",
       "      <td>0.012097</td>\n",
       "      <td>1.000000</td>\n",
       "    </tr>\n",
       "  </tbody>\n",
       "</table>\n",
       "</div>"
      ],
      "text/plain": [
       "                 CreditScore       Age    Tenure   Balance  NumOfProducts  \\\n",
       "CreditScore         1.000000 -0.003965  0.000842  0.006268       0.012238   \n",
       "Age                -0.003965  1.000000 -0.009997  0.028308      -0.030680   \n",
       "Tenure              0.000842 -0.009997  1.000000 -0.012254       0.013444   \n",
       "Balance             0.006268  0.028308 -0.012254  1.000000      -0.304180   \n",
       "NumOfProducts       0.012238 -0.030680  0.013444 -0.304180       1.000000   \n",
       "HasCrCard          -0.005458 -0.011721  0.022583 -0.014858       0.003183   \n",
       "IsActiveMember      0.025651  0.085472 -0.028362 -0.010084       0.009612   \n",
       "EstimatedSalary    -0.001384 -0.007201  0.007784  0.012797       0.014204   \n",
       "Exited             -0.027094  0.285323 -0.014001  0.118533      -0.047820   \n",
       "\n",
       "                 HasCrCard  IsActiveMember  EstimatedSalary    Exited  \n",
       "CreditScore      -0.005458        0.025651        -0.001384 -0.027094  \n",
       "Age              -0.011721        0.085472        -0.007201  0.285323  \n",
       "Tenure            0.022583       -0.028362         0.007784 -0.014001  \n",
       "Balance          -0.014858       -0.010084         0.012797  0.118533  \n",
       "NumOfProducts     0.003183        0.009612         0.014204 -0.047820  \n",
       "HasCrCard         1.000000       -0.011866        -0.009933 -0.007138  \n",
       "IsActiveMember   -0.011866        1.000000        -0.011421 -0.156128  \n",
       "EstimatedSalary  -0.009933       -0.011421         1.000000  0.012097  \n",
       "Exited           -0.007138       -0.156128         0.012097  1.000000  "
      ]
     },
     "execution_count": 6,
     "metadata": {},
     "output_type": "execute_result"
    }
   ],
   "source": [
    "# оценка корреляций признаков\n",
    "clients.corr()"
   ]
  },
  {
   "cell_type": "code",
   "execution_count": 7,
   "metadata": {
    "scrolled": false
   },
   "outputs": [
    {
     "data": {
      "image/png": "[encoded data removed]",
      "text/plain": [
       "<Figure size 1080x432 with 1 Axes>"
      ]
     },
     "metadata": {
      "needs_background": "light"
     },
     "output_type": "display_data"
    }
   ],
   "source": [
    "# Построим гистограмму зависимости возраста клиента и оттока из банка\n",
    "clients.groupby('Age')['Exited'].mean().plot(figsize=(15,6), kind='bar')\n",
    "plt.title('Гистограмма зависимости возраста и оттока')\n",
    "plt.xlabel('Средний возраст клиента')\n",
    "plt.ylabel('Количество оттока клиентов')\n",
    "plt.legend([])\n",
    "plt.show()"
   ]
  },
  {
   "cell_type": "code",
   "execution_count": 8,
   "metadata": {
    "scrolled": true
   },
   "outputs": [
    {
     "data": {
      "text/plain": [
       "<AxesSubplot:xlabel='Age', ylabel='Exited'>"
      ]
     },
     "execution_count": 8,
     "metadata": {},
     "output_type": "execute_result"
    },
    {
     "data": {
      "image/png": "[encoded data removed]",
      "text/plain": [
       "<Figure size 432x288 with 1 Axes>"
      ]
     },
     "metadata": {
      "needs_background": "light"
     },
     "output_type": "display_data"
    }
   ],
   "source": [
    "clients.plot(x='Age', y='Exited', kind='scatter', alpha=0.1) "
   ]
  },
  {
   "cell_type": "code",
   "execution_count": 9,
   "metadata": {
    "scrolled": false
   },
   "outputs": [
    {
     "data": {
      "text/plain": [
       "<AxesSubplot:xlabel='Balance', ylabel='Exited'>"
      ]
     },
     "execution_count": 9,
     "metadata": {},
     "output_type": "execute_result"
    },
    {
     "data": {
      "image/png": "[encoded data removed]",
      "text/plain": [
       "<Figure size 432x288 with 1 Axes>"
      ]
     },
     "metadata": {
      "needs_background": "light"
     },
     "output_type": "display_data"
    }
   ],
   "source": [
    "clients.plot(x='Balance', y='Exited', kind='scatter', alpha=0.1) "
   ]
  },
  {
   "cell_type": "markdown",
   "metadata": {},
   "source": [
    "Данные свидетельствуют о том, что возрастные клиенты охотнее покидают банк. Возможно это связано с увеличением смертности у возрастных клиентов. Клиенты с нулевым балансом продолжают оставаться в банке, а клиенты, у которых есть на счету деньги, покидают банк.\n",
    "Кредитный рейтинг, сколько лет человек является клиентом банка и наличие кредитной карты, предполагаемая зарплата не сильно влияют на решение клиента уйти или остаться."
   ]
  },
  {
   "cell_type": "code",
   "execution_count": 10,
   "metadata": {},
   "outputs": [
    {
     "data": {
      "text/plain": [
       "0.0"
      ]
     },
     "execution_count": 10,
     "metadata": {},
     "output_type": "execute_result"
    }
   ],
   "source": [
    "# Смотрим пропуски в столбце Tenure\n",
    "clients['Tenure'].isna().mean()"
   ]
  },
  {
   "cell_type": "code",
   "execution_count": 11,
   "metadata": {
    "scrolled": true
   },
   "outputs": [
    {
     "data": {
      "text/plain": [
       "count    10000.000000\n",
       "mean         5.012800\n",
       "std          2.892174\n",
       "min          0.000000\n",
       "25%          3.000000\n",
       "50%          5.000000\n",
       "75%          7.000000\n",
       "max         10.000000\n",
       "Name: Tenure, dtype: float64"
      ]
     },
     "execution_count": 11,
     "metadata": {},
     "output_type": "execute_result"
    }
   ],
   "source": [
    "# Смотрим числовое описание столбца Tenure\n",
    "clients['Tenure'].describe()"
   ]
  },
  {
   "cell_type": "markdown",
   "metadata": {},
   "source": [
    "Всего имеется 9 % пропущенных значений. Так как в среднее значение в столбце Tenure равно 4.99, а медиана равна 5, то можно заменить пропуски в столбце Tenure медианным значением, однако это может исказить данные."
   ]
  },
  {
   "cell_type": "code",
   "execution_count": 12,
   "metadata": {
    "scrolled": true
   },
   "outputs": [
    {
     "data": {
      "text/plain": [
       "<AxesSubplot:xlabel='Tenure', ylabel='count'>"
      ]
     },
     "execution_count": 12,
     "metadata": {},
     "output_type": "execute_result"
    },
    {
     "data": {
      "image/png": "[encoded data removed]",
      "text/plain": [
       "<Figure size 432x288 with 1 Axes>"
      ]
     },
     "metadata": {
      "needs_background": "light"
     },
     "output_type": "display_data"
    }
   ],
   "source": [
    "# построим график\n",
    "sns.countplot(x='Tenure', hue='Exited', data=clients)"
   ]
  },
  {
   "cell_type": "markdown",
   "metadata": {},
   "source": [
    "сколько лет человек является клиентом банка и факт ухода распределены нормально, за исключением 0 и 10 лет. При этом факт ухода одинаков для всех клиентов, не зависимо от того, сколько лет был клиентом банка."
   ]
  },
  {
   "cell_type": "code",
   "execution_count": 13,
   "metadata": {},
   "outputs": [],
   "source": [
    "# создадим дополнительный столбец с наличием значений в столбце Tenure \n",
    "clients['has_tenure'] = clients['Tenure'].notnull()"
   ]
  },
  {
   "cell_type": "code",
   "execution_count": 14,
   "metadata": {},
   "outputs": [
    {
     "data": {
      "text/plain": [
       "<AxesSubplot:xlabel='has_tenure', ylabel='count'>"
      ]
     },
     "execution_count": 14,
     "metadata": {},
     "output_type": "execute_result"
    },
    {
     "data": {
      "image/png": "[encoded data removed]",
      "text/plain": [
       "<Figure size 432x288 with 1 Axes>"
      ]
     },
     "metadata": {
      "needs_background": "light"
     },
     "output_type": "display_data"
    }
   ],
   "source": [
    "sns.countplot(x='has_tenure', hue='Exited', data=clients)"
   ]
  },
  {
   "cell_type": "markdown",
   "metadata": {},
   "source": [
    "Таким образом, пропуски в столбце Tenure можно обработать следующим образом:\n",
    "- удалить строки, которые содержат пустые значения. Таких строк около 9%;\n",
    "- удалить всю колонку. Судя по матрице корреляции этот признак не является ключевым как, например баланс счета или возраст клиента;\n",
    "- случайным образом с равной вероятностью заполнить целыми числами от 1 до 9, так как срок, которым является клиентом банка банка распределен нормально, однако это повлияет на фактические данные;\n",
    "- заменить медианным или среднем значением (они практически равны 5). В этом случае ни среднее, ни значение медианы не изменится, но будет перекос в количестве значений 5.\n",
    "\n",
    "Любое заполнение исказит данные, что отразится на качестве модели. Из гистограммы видно, что соотношение клиент ушел (1) или остался в банке (0) примерно одинаковое 1:4, как для пропущенных значений, так и заполненных значений в столбце Tenure. Поэтому эти пустые значения не являются критичными для данной задачи. К тому же факт ухода одинаков для всех клиентов, не зависимо от того, сколько лет был клиентом банка.Удалим столбец Tenure.\n",
    "\n"
   ]
  },
  {
   "cell_type": "code",
   "execution_count": 15,
   "metadata": {},
   "outputs": [],
   "source": [
    "# Заменим пропущенные значения в столбце 'Tenure' на случайные значения от 1 до 9\n",
    "np.random.seed(2022)\n",
    "clients['Tenure'] = clients['Tenure'].mask(clients['Tenure'].isna(), np.random.randint(1, 9, size=len(clients)))\n"
   ]
  },
  {
   "cell_type": "code",
   "execution_count": 16,
   "metadata": {},
   "outputs": [
    {
     "data": {
      "text/plain": [
       "CreditScore        0\n",
       "Geography          0\n",
       "Gender             0\n",
       "Age                0\n",
       "Tenure             0\n",
       "Balance            0\n",
       "NumOfProducts      0\n",
       "HasCrCard          0\n",
       "IsActiveMember     0\n",
       "EstimatedSalary    0\n",
       "Exited             0\n",
       "has_tenure         0\n",
       "dtype: int64"
      ]
     },
     "execution_count": 16,
     "metadata": {},
     "output_type": "execute_result"
    }
   ],
   "source": [
    "# Проверим на наличие пропусков\n",
    "clients.isna().sum()"
   ]
  },
  {
   "cell_type": "code",
   "execution_count": 17,
   "metadata": {
    "scrolled": false
   },
   "outputs": [
    {
     "data": {
      "text/plain": [
       "<AxesSubplot:xlabel='Tenure', ylabel='count'>"
      ]
     },
     "execution_count": 17,
     "metadata": {},
     "output_type": "execute_result"
    },
    {
     "data": {
      "image/png": "[encoded data removed]",
      "text/plain": [
       "<Figure size 432x288 with 1 Axes>"
      ]
     },
     "metadata": {
      "needs_background": "light"
     },
     "output_type": "display_data"
    }
   ],
   "source": [
    "# Проверим распределение клиентов в зависимости от количества лет\n",
    "sns.countplot(x='Tenure', hue='Exited', data=clients)"
   ]
  },
  {
   "cell_type": "code",
   "execution_count": 18,
   "metadata": {
    "scrolled": false
   },
   "outputs": [
    {
     "data": {
      "text/html": [
       "<div>\n",
       "<style scoped>\n",
       "    .dataframe tbody tr th:only-of-type {\n",
       "        vertical-align: middle;\n",
       "    }\n",
       "\n",
       "    .dataframe tbody tr th {\n",
       "        vertical-align: top;\n",
       "    }\n",
       "\n",
       "    .dataframe thead th {\n",
       "        text-align: right;\n",
       "    }\n",
       "</style>\n",
       "<table border=\"1\" class=\"dataframe\">\n",
       "  <thead>\n",
       "    <tr style=\"text-align: right;\">\n",
       "      <th></th>\n",
       "      <th>CreditScore</th>\n",
       "      <th>Geography</th>\n",
       "      <th>Gender</th>\n",
       "      <th>Age</th>\n",
       "      <th>Tenure</th>\n",
       "      <th>Balance</th>\n",
       "      <th>NumOfProducts</th>\n",
       "      <th>HasCrCard</th>\n",
       "      <th>IsActiveMember</th>\n",
       "      <th>EstimatedSalary</th>\n",
       "      <th>Exited</th>\n",
       "    </tr>\n",
       "  </thead>\n",
       "  <tbody>\n",
       "    <tr>\n",
       "      <th>0</th>\n",
       "      <td>619</td>\n",
       "      <td>France</td>\n",
       "      <td>Female</td>\n",
       "      <td>42</td>\n",
       "      <td>2</td>\n",
       "      <td>0.00</td>\n",
       "      <td>1</td>\n",
       "      <td>1</td>\n",
       "      <td>1</td>\n",
       "      <td>101348.88</td>\n",
       "      <td>1</td>\n",
       "    </tr>\n",
       "    <tr>\n",
       "      <th>1</th>\n",
       "      <td>608</td>\n",
       "      <td>Spain</td>\n",
       "      <td>Female</td>\n",
       "      <td>41</td>\n",
       "      <td>1</td>\n",
       "      <td>83807.86</td>\n",
       "      <td>1</td>\n",
       "      <td>0</td>\n",
       "      <td>1</td>\n",
       "      <td>112542.58</td>\n",
       "      <td>0</td>\n",
       "    </tr>\n",
       "    <tr>\n",
       "      <th>2</th>\n",
       "      <td>502</td>\n",
       "      <td>France</td>\n",
       "      <td>Female</td>\n",
       "      <td>42</td>\n",
       "      <td>8</td>\n",
       "      <td>159660.80</td>\n",
       "      <td>3</td>\n",
       "      <td>1</td>\n",
       "      <td>0</td>\n",
       "      <td>113931.57</td>\n",
       "      <td>1</td>\n",
       "    </tr>\n",
       "    <tr>\n",
       "      <th>3</th>\n",
       "      <td>699</td>\n",
       "      <td>France</td>\n",
       "      <td>Female</td>\n",
       "      <td>39</td>\n",
       "      <td>1</td>\n",
       "      <td>0.00</td>\n",
       "      <td>2</td>\n",
       "      <td>0</td>\n",
       "      <td>0</td>\n",
       "      <td>93826.63</td>\n",
       "      <td>0</td>\n",
       "    </tr>\n",
       "    <tr>\n",
       "      <th>4</th>\n",
       "      <td>850</td>\n",
       "      <td>Spain</td>\n",
       "      <td>Female</td>\n",
       "      <td>43</td>\n",
       "      <td>2</td>\n",
       "      <td>125510.82</td>\n",
       "      <td>1</td>\n",
       "      <td>1</td>\n",
       "      <td>1</td>\n",
       "      <td>79084.10</td>\n",
       "      <td>0</td>\n",
       "    </tr>\n",
       "  </tbody>\n",
       "</table>\n",
       "</div>"
      ],
      "text/plain": [
       "   CreditScore Geography  Gender  Age  Tenure    Balance  NumOfProducts  \\\n",
       "0          619    France  Female   42       2       0.00              1   \n",
       "1          608     Spain  Female   41       1   83807.86              1   \n",
       "2          502    France  Female   42       8  159660.80              3   \n",
       "3          699    France  Female   39       1       0.00              2   \n",
       "4          850     Spain  Female   43       2  125510.82              1   \n",
       "\n",
       "   HasCrCard  IsActiveMember  EstimatedSalary  Exited  \n",
       "0          1               1        101348.88       1  \n",
       "1          0               1        112542.58       0  \n",
       "2          1               0        113931.57       1  \n",
       "3          0               0         93826.63       0  \n",
       "4          1               1         79084.10       0  "
      ]
     },
     "execution_count": 18,
     "metadata": {},
     "output_type": "execute_result"
    }
   ],
   "source": [
    "# Удалим столбец has_tenure\n",
    "clients = clients.drop(['has_tenure'], axis=1)\n",
    "clients.head()"
   ]
  },
  {
   "cell_type": "code",
   "execution_count": 19,
   "metadata": {},
   "outputs": [
    {
     "data": {
      "text/plain": [
       "France     5014\n",
       "Germany    2509\n",
       "Spain      2477\n",
       "Name: Geography, dtype: int64"
      ]
     },
     "execution_count": 19,
     "metadata": {},
     "output_type": "execute_result"
    }
   ],
   "source": [
    "# Посмотрим уникальные значения стобца Geography\n",
    "clients['Geography'].value_counts()"
   ]
  },
  {
   "cell_type": "code",
   "execution_count": 20,
   "metadata": {},
   "outputs": [
    {
     "data": {
      "text/plain": [
       "Male      5457\n",
       "Female    4543\n",
       "Name: Gender, dtype: int64"
      ]
     },
     "execution_count": 20,
     "metadata": {},
     "output_type": "execute_result"
    }
   ],
   "source": [
    "# Посмотрим уникальные значения стобца Gender\n",
    "clients['Gender'].value_counts()"
   ]
  },
  {
   "cell_type": "markdown",
   "metadata": {},
   "source": [
    "В таблице имеется два категориальных признака:\n",
    "- столбец Geography, в котором содержатся сведения из какой страны клиент: Франция, Германия или Испания;\n",
    "- столбец Gender, в котором содержатся сведения о том, какого пола клиент банка: мужской или женский.\n",
    "\n",
    "Преобразуем категориальные признаки техникой One-Hot Encoding (OHE)."
   ]
  },
  {
   "cell_type": "code",
   "execution_count": 21,
   "metadata": {
    "scrolled": false
   },
   "outputs": [
    {
     "data": {
      "text/html": [
       "<div>\n",
       "<style scoped>\n",
       "    .dataframe tbody tr th:only-of-type {\n",
       "        vertical-align: middle;\n",
       "    }\n",
       "\n",
       "    .dataframe tbody tr th {\n",
       "        vertical-align: top;\n",
       "    }\n",
       "\n",
       "    .dataframe thead th {\n",
       "        text-align: right;\n",
       "    }\n",
       "</style>\n",
       "<table border=\"1\" class=\"dataframe\">\n",
       "  <thead>\n",
       "    <tr style=\"text-align: right;\">\n",
       "      <th></th>\n",
       "      <th>CreditScore</th>\n",
       "      <th>Age</th>\n",
       "      <th>Tenure</th>\n",
       "      <th>Balance</th>\n",
       "      <th>NumOfProducts</th>\n",
       "      <th>HasCrCard</th>\n",
       "      <th>IsActiveMember</th>\n",
       "      <th>EstimatedSalary</th>\n",
       "      <th>Exited</th>\n",
       "      <th>Geography_Germany</th>\n",
       "      <th>Geography_Spain</th>\n",
       "      <th>Gender_Male</th>\n",
       "    </tr>\n",
       "  </thead>\n",
       "  <tbody>\n",
       "    <tr>\n",
       "      <th>0</th>\n",
       "      <td>619</td>\n",
       "      <td>42</td>\n",
       "      <td>2</td>\n",
       "      <td>0.00</td>\n",
       "      <td>1</td>\n",
       "      <td>1</td>\n",
       "      <td>1</td>\n",
       "      <td>101348.88</td>\n",
       "      <td>1</td>\n",
       "      <td>0</td>\n",
       "      <td>0</td>\n",
       "      <td>0</td>\n",
       "    </tr>\n",
       "    <tr>\n",
       "      <th>1</th>\n",
       "      <td>608</td>\n",
       "      <td>41</td>\n",
       "      <td>1</td>\n",
       "      <td>83807.86</td>\n",
       "      <td>1</td>\n",
       "      <td>0</td>\n",
       "      <td>1</td>\n",
       "      <td>112542.58</td>\n",
       "      <td>0</td>\n",
       "      <td>0</td>\n",
       "      <td>1</td>\n",
       "      <td>0</td>\n",
       "    </tr>\n",
       "    <tr>\n",
       "      <th>2</th>\n",
       "      <td>502</td>\n",
       "      <td>42</td>\n",
       "      <td>8</td>\n",
       "      <td>159660.80</td>\n",
       "      <td>3</td>\n",
       "      <td>1</td>\n",
       "      <td>0</td>\n",
       "      <td>113931.57</td>\n",
       "      <td>1</td>\n",
       "      <td>0</td>\n",
       "      <td>0</td>\n",
       "      <td>0</td>\n",
       "    </tr>\n",
       "    <tr>\n",
       "      <th>3</th>\n",
       "      <td>699</td>\n",
       "      <td>39</td>\n",
       "      <td>1</td>\n",
       "      <td>0.00</td>\n",
       "      <td>2</td>\n",
       "      <td>0</td>\n",
       "      <td>0</td>\n",
       "      <td>93826.63</td>\n",
       "      <td>0</td>\n",
       "      <td>0</td>\n",
       "      <td>0</td>\n",
       "      <td>0</td>\n",
       "    </tr>\n",
       "    <tr>\n",
       "      <th>4</th>\n",
       "      <td>850</td>\n",
       "      <td>43</td>\n",
       "      <td>2</td>\n",
       "      <td>125510.82</td>\n",
       "      <td>1</td>\n",
       "      <td>1</td>\n",
       "      <td>1</td>\n",
       "      <td>79084.10</td>\n",
       "      <td>0</td>\n",
       "      <td>0</td>\n",
       "      <td>1</td>\n",
       "      <td>0</td>\n",
       "    </tr>\n",
       "  </tbody>\n",
       "</table>\n",
       "</div>"
      ],
      "text/plain": [
       "   CreditScore  Age  Tenure    Balance  NumOfProducts  HasCrCard  \\\n",
       "0          619   42       2       0.00              1          1   \n",
       "1          608   41       1   83807.86              1          0   \n",
       "2          502   42       8  159660.80              3          1   \n",
       "3          699   39       1       0.00              2          0   \n",
       "4          850   43       2  125510.82              1          1   \n",
       "\n",
       "   IsActiveMember  EstimatedSalary  Exited  Geography_Germany  \\\n",
       "0               1        101348.88       1                  0   \n",
       "1               1        112542.58       0                  0   \n",
       "2               0        113931.57       1                  0   \n",
       "3               0         93826.63       0                  0   \n",
       "4               1         79084.10       0                  0   \n",
       "\n",
       "   Geography_Spain  Gender_Male  \n",
       "0                0            0  \n",
       "1                1            0  \n",
       "2                0            0  \n",
       "3                0            0  \n",
       "4                1            0  "
      ]
     },
     "metadata": {},
     "output_type": "display_data"
    },
    {
     "name": "stdout",
     "output_type": "stream",
     "text": [
      "<class 'pandas.core.frame.DataFrame'>\n",
      "RangeIndex: 10000 entries, 0 to 9999\n",
      "Data columns (total 12 columns):\n",
      " #   Column             Non-Null Count  Dtype  \n",
      "---  ------             --------------  -----  \n",
      " 0   CreditScore        10000 non-null  int64  \n",
      " 1   Age                10000 non-null  int64  \n",
      " 2   Tenure             10000 non-null  int64  \n",
      " 3   Balance            10000 non-null  float64\n",
      " 4   NumOfProducts      10000 non-null  int64  \n",
      " 5   HasCrCard          10000 non-null  int64  \n",
      " 6   IsActiveMember     10000 non-null  int64  \n",
      " 7   EstimatedSalary    10000 non-null  float64\n",
      " 8   Exited             10000 non-null  int64  \n",
      " 9   Geography_Germany  10000 non-null  uint8  \n",
      " 10  Geography_Spain    10000 non-null  uint8  \n",
      " 11  Gender_Male        10000 non-null  uint8  \n",
      "dtypes: float64(2), int64(7), uint8(3)\n",
      "memory usage: 732.5 KB\n"
     ]
    }
   ],
   "source": [
    "# Преобразуем категориальные признаки техникой OHE\n",
    "clients = pd.get_dummies(clients, drop_first=True)\n",
    "display(clients.head())\n",
    "clients.info()"
   ]
  },
  {
   "cell_type": "code",
   "execution_count": 22,
   "metadata": {},
   "outputs": [],
   "source": [
    "# Создадим признаки и целевой признак\n",
    "features = clients.drop(['Exited'], axis=1)\n",
    "target = clients['Exited']"
   ]
  },
  {
   "cell_type": "code",
   "execution_count": 23,
   "metadata": {
    "scrolled": false
   },
   "outputs": [
    {
     "data": {
      "text/plain": [
       "(6000, 11)"
      ]
     },
     "metadata": {},
     "output_type": "display_data"
    },
    {
     "data": {
      "text/plain": [
       "(2000, 11)"
      ]
     },
     "metadata": {},
     "output_type": "display_data"
    },
    {
     "data": {
      "text/plain": [
       "(2000, 11)"
      ]
     },
     "metadata": {},
     "output_type": "display_data"
    },
    {
     "data": {
      "text/plain": [
       "(6000,)"
      ]
     },
     "metadata": {},
     "output_type": "display_data"
    },
    {
     "data": {
      "text/plain": [
       "(2000,)"
      ]
     },
     "metadata": {},
     "output_type": "display_data"
    },
    {
     "data": {
      "text/plain": [
       "(2000,)"
      ]
     },
     "metadata": {},
     "output_type": "display_data"
    }
   ],
   "source": [
    "# Разделим на обучающую и валидационную выборки\n",
    "features_train, features_valid, target_train, target_valid = train_test_split(features, target, test_size=0.4, \n",
    "                                                                              random_state=12345)\n",
    "# Разделим на валидационную и тестовую выборки\n",
    "features_valid, features_test, target_valid, target_test = train_test_split(features_valid, target_valid, test_size=0.5, \n",
    "                                                                              random_state=12345)\n",
    "# Прповерим соотношение выборок\n",
    "display(features_train.shape, features_valid.shape, features_test.shape)\n",
    "display(target_train.shape, target_valid.shape, target_test.shape)\n"
   ]
  },
  {
   "cell_type": "markdown",
   "metadata": {},
   "source": [
    "В таблице имеются численные признаки: CreditScore, Age, Tenure, Balance, NumOfProducts, EstimatedSalary. Их нужно привести к единому масштабу."
   ]
  },
  {
   "cell_type": "code",
   "execution_count": 24,
   "metadata": {
    "scrolled": true
   },
   "outputs": [
    {
     "data": {
      "text/html": [
       "<div>\n",
       "<style scoped>\n",
       "    .dataframe tbody tr th:only-of-type {\n",
       "        vertical-align: middle;\n",
       "    }\n",
       "\n",
       "    .dataframe tbody tr th {\n",
       "        vertical-align: top;\n",
       "    }\n",
       "\n",
       "    .dataframe thead th {\n",
       "        text-align: right;\n",
       "    }\n",
       "</style>\n",
       "<table border=\"1\" class=\"dataframe\">\n",
       "  <thead>\n",
       "    <tr style=\"text-align: right;\">\n",
       "      <th></th>\n",
       "      <th>CreditScore</th>\n",
       "      <th>Age</th>\n",
       "      <th>Tenure</th>\n",
       "      <th>Balance</th>\n",
       "      <th>NumOfProducts</th>\n",
       "      <th>HasCrCard</th>\n",
       "      <th>IsActiveMember</th>\n",
       "      <th>EstimatedSalary</th>\n",
       "      <th>Geography_Germany</th>\n",
       "      <th>Geography_Spain</th>\n",
       "      <th>Gender_Male</th>\n",
       "    </tr>\n",
       "  </thead>\n",
       "  <tbody>\n",
       "    <tr>\n",
       "      <th>7479</th>\n",
       "      <td>-0.886751</td>\n",
       "      <td>-0.373192</td>\n",
       "      <td>1.027273</td>\n",
       "      <td>1.232271</td>\n",
       "      <td>-0.891560</td>\n",
       "      <td>1</td>\n",
       "      <td>0</td>\n",
       "      <td>-0.187705</td>\n",
       "      <td>0</td>\n",
       "      <td>1</td>\n",
       "      <td>1</td>\n",
       "    </tr>\n",
       "    <tr>\n",
       "      <th>3411</th>\n",
       "      <td>0.608663</td>\n",
       "      <td>-0.183385</td>\n",
       "      <td>1.027273</td>\n",
       "      <td>0.600563</td>\n",
       "      <td>-0.891560</td>\n",
       "      <td>0</td>\n",
       "      <td>0</td>\n",
       "      <td>-0.333945</td>\n",
       "      <td>0</td>\n",
       "      <td>0</td>\n",
       "      <td>0</td>\n",
       "    </tr>\n",
       "    <tr>\n",
       "      <th>6027</th>\n",
       "      <td>2.052152</td>\n",
       "      <td>0.480939</td>\n",
       "      <td>-0.707790</td>\n",
       "      <td>1.027098</td>\n",
       "      <td>0.830152</td>\n",
       "      <td>0</td>\n",
       "      <td>1</td>\n",
       "      <td>1.503095</td>\n",
       "      <td>1</td>\n",
       "      <td>0</td>\n",
       "      <td>1</td>\n",
       "    </tr>\n",
       "    <tr>\n",
       "      <th>1247</th>\n",
       "      <td>-1.457915</td>\n",
       "      <td>-1.417129</td>\n",
       "      <td>0.333248</td>\n",
       "      <td>-1.233163</td>\n",
       "      <td>0.830152</td>\n",
       "      <td>1</td>\n",
       "      <td>0</td>\n",
       "      <td>-1.071061</td>\n",
       "      <td>0</td>\n",
       "      <td>0</td>\n",
       "      <td>1</td>\n",
       "    </tr>\n",
       "    <tr>\n",
       "      <th>3716</th>\n",
       "      <td>0.130961</td>\n",
       "      <td>-1.132419</td>\n",
       "      <td>-1.054802</td>\n",
       "      <td>1.140475</td>\n",
       "      <td>-0.891560</td>\n",
       "      <td>0</td>\n",
       "      <td>0</td>\n",
       "      <td>1.524268</td>\n",
       "      <td>1</td>\n",
       "      <td>0</td>\n",
       "      <td>0</td>\n",
       "    </tr>\n",
       "  </tbody>\n",
       "</table>\n",
       "</div>"
      ],
      "text/plain": [
       "      CreditScore       Age    Tenure   Balance  NumOfProducts  HasCrCard  \\\n",
       "7479    -0.886751 -0.373192  1.027273  1.232271      -0.891560          1   \n",
       "3411     0.608663 -0.183385  1.027273  0.600563      -0.891560          0   \n",
       "6027     2.052152  0.480939 -0.707790  1.027098       0.830152          0   \n",
       "1247    -1.457915 -1.417129  0.333248 -1.233163       0.830152          1   \n",
       "3716     0.130961 -1.132419 -1.054802  1.140475      -0.891560          0   \n",
       "\n",
       "      IsActiveMember  EstimatedSalary  Geography_Germany  Geography_Spain  \\\n",
       "7479               0        -0.187705                  0                1   \n",
       "3411               0        -0.333945                  0                0   \n",
       "6027               1         1.503095                  1                0   \n",
       "1247               0        -1.071061                  0                0   \n",
       "3716               0         1.524268                  1                0   \n",
       "\n",
       "      Gender_Male  \n",
       "7479            1  \n",
       "3411            0  \n",
       "6027            1  \n",
       "1247            1  \n",
       "3716            0  "
      ]
     },
     "execution_count": 24,
     "metadata": {},
     "output_type": "execute_result"
    }
   ],
   "source": [
    "# Приведем чесленные методы к одному масштабу\n",
    "numeric = ['CreditScore', 'Age', 'Tenure', 'Balance', 'NumOfProducts', 'EstimatedSalary']\n",
    "scaler = StandardScaler()\n",
    "scaler.fit(features_train[numeric])\n",
    "    \n",
    "features_train[numeric] = scaler.transform(features_train[numeric])\n",
    "features_valid[numeric] = scaler.transform(features_valid[numeric])\n",
    "features_test[numeric] = scaler.transform(features_test[numeric])\n",
    "features_train.head()"
   ]
  },
  {
   "cell_type": "markdown",
   "metadata": {},
   "source": [
    "## Исследование задачи"
   ]
  },
  {
   "cell_type": "code",
   "execution_count": 25,
   "metadata": {},
   "outputs": [
    {
     "data": {
      "text/plain": [
       "0    7963\n",
       "1    2037\n",
       "Name: Exited, dtype: int64"
      ]
     },
     "execution_count": 25,
     "metadata": {},
     "output_type": "execute_result"
    },
    {
     "data": {
      "image/png": "[encoded data removed]",
      "text/plain": [
       "<Figure size 432x288 with 1 Axes>"
      ]
     },
     "metadata": {
      "needs_background": "light"
     },
     "output_type": "display_data"
    }
   ],
   "source": [
    "clients['Exited'].value_counts().plot(kind='bar', title='соотношение клиентов банка:''0 - действующие, 1 - недействующие')\n",
    "clients['Exited'].value_counts()"
   ]
  },
  {
   "cell_type": "markdown",
   "metadata": {},
   "source": [
    "В целевом признаке имеется дисбаланс классов: 0 - 7963 (что составляет около 80%), 1 - 2037 (20%). Это может привести к тому, что модель будет предсказывать наиболее распространённый вариант ответа. \n",
    "\n",
    "Сначала обучим модели при дисбалансе классов."
   ]
  },
  {
   "cell_type": "markdown",
   "metadata": {},
   "source": [
    "### Решающее дерево"
   ]
  },
  {
   "cell_type": "code",
   "execution_count": 26,
   "metadata": {
    "scrolled": true
   },
   "outputs": [
    {
     "name": "stdout",
     "output_type": "stream",
     "text": [
      "F-1 модели решающего дерева на валидационной выборке: 0.5722543352601155 при max_depth = 9\n",
      "AUC-ROC модели решающего дерева на валидационной выборке: 0.8221680508592478 при max_depth= 14\n"
     ]
    }
   ],
   "source": [
    "f1_best = 0\n",
    "auc_roc_best = 0\n",
    "depth_best = 0\n",
    "\n",
    "for depth in range(2, 15):\n",
    "    model = DecisionTreeClassifier(random_state=12345, max_depth=depth)\n",
    "    model.fit(features_train, target_train)\n",
    "    prediction_valid = model.predict(features_valid)\n",
    "    probabilities_valid = model.predict_proba(features_valid)[:, 1]\n",
    "    f1 = f1_score(target_valid, prediction_valid)\n",
    "    auc_roc = roc_auc_score(target_valid, probabilities_valid)\n",
    "    fpr_tree, tpr_tree, thresholds = roc_curve(target_valid, probabilities_valid)\n",
    "    if f1 > f1_best:\n",
    "        f1_best = f1\n",
    "        depth_best = depth\n",
    "    if auc_roc > auc_roc_best:\n",
    "        auc_roc_best = auc_roc\n",
    "           \n",
    "print('F-1 модели решающего дерева на валидационной выборке:', f1_best, 'при max_depth =', depth_best)\n",
    "print('AUC-ROC модели решающего дерева на валидационной выборке:', auc_roc_best, 'при max_depth=', depth) \n"
   ]
  },
  {
   "cell_type": "markdown",
   "metadata": {},
   "source": [
    "### Случайный лес"
   ]
  },
  {
   "cell_type": "code",
   "execution_count": 27,
   "metadata": {},
   "outputs": [
    {
     "name": "stdout",
     "output_type": "stream",
     "text": [
      "F-1 модели случайного леса на валидационной выборке: 0.5963431786216596 при n_estimators = 11 при max_depth = 16\n",
      "AUC-ROC модели случайного леса на валидационной выборке: 0.8338840363176645 при n_estimators = 14 при max_depth = 29\n"
     ]
    }
   ],
   "source": [
    "f1_best = 0\n",
    "auc_roc_best = 0\n",
    "depth_best = 0\n",
    "est_best = 0\n",
    "\n",
    "for est in range(1, 15):\n",
    "    for depth in range(16, 30):\n",
    "        model = RandomForestClassifier(random_state=12345, n_estimators=est, max_depth=depth)\n",
    "        model.fit(features_train, target_train)\n",
    "        prediction_valid = model.predict(features_valid)\n",
    "        probabilities_valid = model.predict_proba(features_valid)[:, 1]\n",
    "        f1 = f1_score(target_valid, prediction_valid)\n",
    "        auc_roc = roc_auc_score(target_valid, probabilities_valid)\n",
    "        fpr_forest, tpr_forest, thresholds = roc_curve(target_valid, probabilities_valid)\n",
    "        if f1 > f1_best:\n",
    "            f1_best = f1\n",
    "            depth_best = depth\n",
    "            est_best = est\n",
    "        if auc_roc > auc_roc_best:\n",
    "            auc_roc_best = auc_roc\n",
    "\n",
    "print('F-1 модели случайного леса на валидационной выборке:', f1_best, 'при n_estimators =', est_best, \n",
    "      'при max_depth =', depth_best)\n",
    "print('AUC-ROC модели случайного леса на валидационной выборке:', auc_roc_best, 'при n_estimators =', est,\n",
    "      'при max_depth =', depth)"
   ]
  },
  {
   "cell_type": "markdown",
   "metadata": {},
   "source": [
    "### Логистическая регрессия"
   ]
  },
  {
   "cell_type": "code",
   "execution_count": 28,
   "metadata": {
    "scrolled": true
   },
   "outputs": [
    {
     "name": "stdout",
     "output_type": "stream",
     "text": [
      "F-1 модели логистической регрессии на валидационной выборке 0.33389544688026984\n",
      "AUC-ROC модели логистической регрессии на валидационной выборке 0.7584079869827424\n"
     ]
    }
   ],
   "source": [
    "model = LogisticRegression(random_state=12345, solver='liblinear')\n",
    "model.fit(features_train, target_train)\n",
    "prediction_valid = model.predict(features_valid)\n",
    "f1 = f1_score(target_valid, prediction_valid)\n",
    "probabilities_valid = model.predict_proba(features_valid)[:, 1]\n",
    "fpr_logistic, tpr_logistic, thresholds = roc_curve(target_valid, probabilities_valid)\n",
    "print('F-1 модели логистической регрессии на валидационной выборке', f1)\n",
    "print('AUC-ROC модели логистической регрессии на валидационной выборке', roc_auc_score(target_valid, probabilities_valid))\n"
   ]
  },
  {
   "cell_type": "markdown",
   "metadata": {},
   "source": [
    "Лучшей из моделей оказалась модель случайного леса, которая на валидационной выборке при n_estimators = 11 и при max_depth = 16 показала значение f-1 = 0.596. Однако, у нас имеется дисбаланс классов: 0 - 7963 (что составляет около 80%), 1 - 2037 (20%). Это приводит к тому, что модель предсказывает наиболее распространённый вариант ответа. AUC-ROC модели случайного леса на валидационной выборке: 0.833 при n_estimators = 14 при max_depth = 2."
   ]
  },
  {
   "cell_type": "markdown",
   "metadata": {},
   "source": [
    "## Борьба с дисбалансом"
   ]
  },
  {
   "cell_type": "markdown",
   "metadata": {},
   "source": [
    "Учитывая, что у нас имеется дисбаланс классов: 0 - 7963 (что составляет около 80%), 1 - 2037 (20%) и это приводит к тому, что модель предсказывает наиболее распространённый вариант ответа, необходимо избавиться от дисбаланса. Для этого попробуем избавиться от дисбаланса, указывая гиперпарамет class_weight='balanced', а также увеличим и уменьшим выборку. Посчитаем для каждого способа f-1 меру и AUC-ROC.   "
   ]
  },
  {
   "cell_type": "markdown",
   "metadata": {},
   "source": [
    "### Сбалансированный вес класса"
   ]
  },
  {
   "cell_type": "markdown",
   "metadata": {},
   "source": [
    "#### Дерево решений"
   ]
  },
  {
   "cell_type": "code",
   "execution_count": 29,
   "metadata": {},
   "outputs": [
    {
     "name": "stdout",
     "output_type": "stream",
     "text": [
      "F-1 модели решающего дерева на валидационной выборке: 0.5963791267305644 при max_depth = 5\n",
      "AUC-ROC модели решающего дерева на валидационной выборке: 0.8310244134068074 при max_depth= 14\n"
     ]
    }
   ],
   "source": [
    "f1_best = 0\n",
    "auc_roc_best = 0\n",
    "depth_best = 0\n",
    "\n",
    "for depth in range(2, 15):\n",
    "    model = DecisionTreeClassifier(random_state=12345, max_depth=depth, class_weight='balanced')\n",
    "    model.fit(features_train, target_train)\n",
    "    prediction_valid = model.predict(features_valid)\n",
    "    probabilities_valid = model.predict_proba(features_valid)[:, 1]\n",
    "    f1 = f1_score(target_valid, prediction_valid)\n",
    "    auc_roc = roc_auc_score(target_valid, probabilities_valid)\n",
    "    if f1 > f1_best:\n",
    "        f1_best = f1\n",
    "        depth_best = depth\n",
    "    if auc_roc > auc_roc_best:\n",
    "        auc_roc_best = auc_roc\n",
    "           \n",
    "print('F-1 модели решающего дерева на валидационной выборке:', f1_best, 'при max_depth =', depth_best)\n",
    "print('AUC-ROC модели решающего дерева на валидационной выборке:', auc_roc_best, 'при max_depth=', depth)"
   ]
  },
  {
   "cell_type": "markdown",
   "metadata": {},
   "source": [
    "#### Случайный лес"
   ]
  },
  {
   "cell_type": "code",
   "execution_count": 39,
   "metadata": {
    "scrolled": true
   },
   "outputs": [
    {
     "name": "stdout",
     "output_type": "stream",
     "text": [
      "F-1 модели случайного леса на валидационной выборке: 0.6341991341991343 при n_estimators = 30 при max_depth = 8\n",
      "AUC-ROC модели случайного леса на валидационной выборке: 0.8584274947223246 при n_estimators = 39 при max_depth = 12\n"
     ]
    }
   ],
   "source": [
    "f1_best = 0\n",
    "auc_roc_best = 0\n",
    "depth_best = 0\n",
    "est_best = 0\n",
    "\n",
    "for est in range(21, 40):\n",
    "    for depth in range(1, 13):\n",
    "        model = RandomForestClassifier(random_state=12345, n_estimators=est, max_depth=depth, class_weight='balanced')\n",
    "        model.fit(features_train, target_train)\n",
    "        prediction_valid = model.predict(features_valid)\n",
    "        probabilities_valid = model.predict_proba(features_valid)[:, 1]\n",
    "        f1 = f1_score(target_valid, prediction_valid)\n",
    "        auc_roc = roc_auc_score(target_valid, probabilities_valid)\n",
    "        if f1 > f1_best:\n",
    "            f1_best = f1\n",
    "            depth_best = depth\n",
    "            est_best = est\n",
    "        if auc_roc > auc_roc_best:\n",
    "            auc_roc_best = auc_roc\n",
    "\n",
    "print('F-1 модели случайного леса на валидационной выборке:', f1_best, 'при n_estimators =', est_best, \n",
    "      'при max_depth =', depth_best)\n",
    "print('AUC-ROC модели случайного леса на валидационной выборке:', auc_roc_best, 'при n_estimators =', est,\n",
    "      'при max_depth =', depth)"
   ]
  },
  {
   "cell_type": "markdown",
   "metadata": {},
   "source": [
    "#### Логистическая регрессия"
   ]
  },
  {
   "cell_type": "code",
   "execution_count": 31,
   "metadata": {
    "scrolled": true
   },
   "outputs": [
    {
     "name": "stdout",
     "output_type": "stream",
     "text": [
      "F-1 модели логистической регрессии на валидационной выборке 0.48676345004269855\n",
      "AUC-ROC модели логистической регрессии на валидационной выборке 0.7633469232211663\n"
     ]
    }
   ],
   "source": [
    "model = LogisticRegression(random_state=12345, class_weight='balanced', solver='liblinear')\n",
    "model.fit(features_train, target_train)\n",
    "prediction_valid = model.predict(features_valid)\n",
    "f1 = f1_score(target_valid, prediction_valid)\n",
    "probabilities_valid = model.predict_proba(features_valid)[:, 1]\n",
    "print('F-1 модели логистической регрессии на валидационной выборке', f1)\n",
    "print('AUC-ROC модели логистической регрессии на валидационной выборке', roc_auc_score(target_valid, probabilities_valid))"
   ]
  },
  {
   "cell_type": "markdown",
   "metadata": {},
   "source": [
    "Лучшей из моделей при сбалансированном весе оказалась модель случайного леса, которая на валидационной выборке при n_estimators = 30 и при max_depth = 8 показала значение f-1 = 0.634. AUC-ROC модели случайного леса на валидационной выборке: 0.858 при n_estimators = 39 при max_depth = 1."
   ]
  },
  {
   "cell_type": "markdown",
   "metadata": {},
   "source": [
    "### Увеличение выборки"
   ]
  },
  {
   "cell_type": "code",
   "execution_count": 40,
   "metadata": {},
   "outputs": [],
   "source": [
    "def upsample(features, target, repeat):\n",
    "    features_zeros = features[target == 0]\n",
    "    features_ones = features[target == 1]\n",
    "    target_zeros = target[target == 0]\n",
    "    target_ones = target[target == 1]\n",
    "\n",
    "    features_upsampled = pd.concat([features_zeros] + [features_ones] * repeat)\n",
    "    target_upsampled = pd.concat([target_zeros] + [target_ones] * repeat)\n",
    "    \n",
    "    features_upsampled, target_upsampled = shuffle(\n",
    "        features_upsampled, target_upsampled, random_state=12345)\n",
    "    \n",
    "    return features_upsampled, target_upsampled\n",
    "\n",
    "features_upsampled, target_upsampled = upsample(features_train,target_train, 4)\n"
   ]
  },
  {
   "cell_type": "markdown",
   "metadata": {},
   "source": [
    "#### Дерево решений"
   ]
  },
  {
   "cell_type": "code",
   "execution_count": 41,
   "metadata": {},
   "outputs": [
    {
     "name": "stdout",
     "output_type": "stream",
     "text": [
      "F-1 модели решающего дерева на валидационной выборке: 0.5963791267305644 при max_depth = 5\n",
      "AUC-ROC модели решающего дерева на валидационной выборке: 0.8310244134068074 при max_depth= 5\n"
     ]
    }
   ],
   "source": [
    "f1_best = 0\n",
    "auc_roc_best = 0\n",
    "depth_best = 0\n",
    "\n",
    "for depth in range(2, 15):\n",
    "    model = DecisionTreeClassifier(random_state=12345, max_depth=depth)\n",
    "    model.fit(features_upsampled, target_upsampled)\n",
    "    prediction_valid = model.predict(features_valid)\n",
    "    probabilities_valid = model.predict_proba(features_valid)[:, 1]\n",
    "    f1 = f1_score(target_valid, prediction_valid)\n",
    "    auc_roc = roc_auc_score(target_valid, probabilities_valid)\n",
    "    if f1 > f1_best:\n",
    "        f1_best = f1\n",
    "        depth_best = depth\n",
    "    if auc_roc > auc_roc_best:\n",
    "        auc_roc_best = auc_roc\n",
    "           \n",
    "print('F-1 модели решающего дерева на валидационной выборке:', f1_best, 'при max_depth =', depth_best)\n",
    "print('AUC-ROC модели решающего дерева на валидационной выборке:', auc_roc_best, 'при max_depth=', depth_best)"
   ]
  },
  {
   "cell_type": "markdown",
   "metadata": {},
   "source": [
    "#### Случайный лес"
   ]
  },
  {
   "cell_type": "code",
   "execution_count": 47,
   "metadata": {},
   "outputs": [
    {
     "name": "stdout",
     "output_type": "stream",
     "text": [
      "F-1 модели случайного леса на валидационной выборке: 0.6265060240963854 при n_estimators = 83 при max_depth = 10\n",
      "AUC-ROC модели случайного леса на валидационной выборке: 0.854364894537228 при n_estimators = 89 при max_depth = 10\n",
      "CPU times: user 21.5 s, sys: 143 ms, total: 21.6 s\n",
      "Wall time: 21.7 s\n"
     ]
    }
   ],
   "source": [
    "%%time\n",
    "f1_best = 0\n",
    "auc_roc_best = 0\n",
    "depth_best = 0\n",
    "est_best = 0\n",
    "\n",
    "for est in range(80, 90):\n",
    "    for depth in range(7, 11):\n",
    "        model = RandomForestClassifier(random_state=12345, n_estimators=est, max_depth=depth, )\n",
    "        model.fit(features_upsampled, target_upsampled)\n",
    "        prediction_valid = model.predict(features_valid)\n",
    "        probabilities_valid = model.predict_proba(features_valid)[:, 1]\n",
    "        f1 = f1_score(target_valid, prediction_valid)\n",
    "        auc_roc = roc_auc_score(target_valid, probabilities_valid)\n",
    "        if f1 > f1_best:\n",
    "            f1_best = f1\n",
    "            depth_best = depth\n",
    "            est_best = est\n",
    "        if auc_roc > auc_roc_best:\n",
    "            auc_roc_best = auc_roc\n",
    "\n",
    "print('F-1 модели случайного леса на валидационной выборке:', f1_best, 'при n_estimators =', est_best, \n",
    "      'при max_depth =', depth_best)\n",
    "print('AUC-ROC модели случайного леса на валидационной выборке:', auc_roc_best, 'при n_estimators =', est,\n",
    "      'при max_depth =', depth)"
   ]
  },
  {
   "cell_type": "markdown",
   "metadata": {},
   "source": [
    "#### Логистическая регрессия"
   ]
  },
  {
   "cell_type": "code",
   "execution_count": 48,
   "metadata": {},
   "outputs": [
    {
     "name": "stdout",
     "output_type": "stream",
     "text": [
      "F1 модели логистической регрессии на валидационной выборке: 0.4850042844901457\n",
      "AUC-ROC модели логистической регрессии на валидационной выборке: 0.7633106297521761\n"
     ]
    }
   ],
   "source": [
    "model = LogisticRegression(random_state=12345, solver='liblinear')\n",
    "model.fit(features_upsampled, target_upsampled)\n",
    "predicted_valid = model.predict(features_valid)\n",
    "probabilities_valid = model.predict_proba(features_valid)[:, 1]\n",
    "print(\"F1 модели логистической регрессии на валидационной выборке:\", f1_score(target_valid, predicted_valid))\n",
    "print('AUC-ROC модели логистической регрессии на валидационной выборке:', roc_auc_score(target_valid, probabilities_valid))\n"
   ]
  },
  {
   "cell_type": "markdown",
   "metadata": {},
   "source": [
    "Лучшей из моделей при увеличении выборки оказалась модель случайного леса, которая на валидационной выборке при n_estimators = 30 и при max_depth = 8 показала значение f-1 = 0.626, однако это чуть меньше, чем при сбалансированном весе - 0.634. AUC-ROC модели случайного леса на валидационной выборке: 0.854 при n_estimators = 89 при max_depth = 10, против 0.855 при сбалансированном весе."
   ]
  },
  {
   "cell_type": "markdown",
   "metadata": {},
   "source": [
    "### Уменьшение выборки"
   ]
  },
  {
   "cell_type": "code",
   "execution_count": 49,
   "metadata": {},
   "outputs": [],
   "source": [
    "def downsample(features, target, fraction):\n",
    "    features_zeros = features[target == 0]\n",
    "    features_ones = features[target == 1]\n",
    "    target_zeros = target[target == 0]\n",
    "    target_ones = target[target == 1]\n",
    "\n",
    "    features_downsampled = pd.concat(\n",
    "        [features_zeros.sample(frac=fraction, random_state=12345)] + [features_ones])\n",
    "    target_downsampled = pd.concat(\n",
    "        [target_zeros.sample(frac=fraction, random_state=12345)] + [target_ones])\n",
    "    \n",
    "    features_downsampled, target_downsampled = shuffle(\n",
    "        features_downsampled, target_downsampled, random_state=12345)\n",
    "    \n",
    "    return features_downsampled, target_downsampled\n",
    "\n",
    "features_downsampled, target_downsampled = downsample(features_train, target_train, 0.25)"
   ]
  },
  {
   "cell_type": "markdown",
   "metadata": {},
   "source": [
    "#### Дерево решений"
   ]
  },
  {
   "cell_type": "code",
   "execution_count": 50,
   "metadata": {},
   "outputs": [
    {
     "name": "stdout",
     "output_type": "stream",
     "text": [
      "F-1 модели решающего дерева на валидационной выборке: 0.5931174089068827 при max_depth = 5\n",
      "AUC-ROC модели решающего дерева на валидационной выборке: 0.82291433531536 при max_depth= 5\n"
     ]
    }
   ],
   "source": [
    "f1_best = 0\n",
    "auc_roc_best = 0\n",
    "depth_best = 0\n",
    "\n",
    "for depth in range(2, 15):\n",
    "    model = DecisionTreeClassifier(random_state=12345, max_depth=depth)\n",
    "    model.fit(features_downsampled, target_downsampled)\n",
    "    prediction_valid = model.predict(features_valid)\n",
    "    probabilities_valid = model.predict_proba(features_valid)[:, 1]\n",
    "    f1 = f1_score(target_valid, prediction_valid)\n",
    "    auc_roc = roc_auc_score(target_valid, probabilities_valid)\n",
    "    if f1 > f1_best:\n",
    "        f1_best = f1\n",
    "        depth_best = depth\n",
    "    if auc_roc > auc_roc_best:\n",
    "        auc_roc_best = auc_roc\n",
    "           \n",
    "print('F-1 модели решающего дерева на валидационной выборке:', f1_best, 'при max_depth =', depth_best)\n",
    "print('AUC-ROC модели решающего дерева на валидационной выборке:', auc_roc_best, 'при max_depth=', depth_best)"
   ]
  },
  {
   "cell_type": "markdown",
   "metadata": {},
   "source": [
    "#### Случайный лес"
   ]
  },
  {
   "cell_type": "code",
   "execution_count": 51,
   "metadata": {},
   "outputs": [
    {
     "name": "stdout",
     "output_type": "stream",
     "text": [
      "F-1 модели случайного леса на валидационной выборке: 0.6013195098963243 при n_estimators = 28 при max_depth = 7\n",
      "AUC-ROC модели случайного леса на валидационной выборке: 0.8472876680841283 при n_estimators = 29 при max_depth = 7\n",
      "CPU times: user 1.37 s, sys: 10.6 ms, total: 1.38 s\n",
      "Wall time: 1.38 s\n"
     ]
    }
   ],
   "source": [
    "%%time\n",
    "f1_best = 0\n",
    "auc_roc_best = 0\n",
    "depth_best = 0\n",
    "est_best = 0\n",
    "\n",
    "for est in range(25, 30):\n",
    "    for depth in range(4, 8):\n",
    "        model = RandomForestClassifier(random_state=12345, n_estimators=est, max_depth=depth, )\n",
    "        model.fit(features_downsampled, target_downsampled)\n",
    "        prediction_valid = model.predict(features_valid)\n",
    "        probabilities_valid = model.predict_proba(features_valid)[:, 1]\n",
    "        f1 = f1_score(target_valid, prediction_valid)\n",
    "        auc_roc = roc_auc_score(target_valid, probabilities_valid)\n",
    "        if f1 > f1_best:\n",
    "            f1_best = f1\n",
    "            depth_best = depth\n",
    "            est_best = est\n",
    "        if auc_roc > auc_roc_best:\n",
    "            auc_roc_best = auc_roc\n",
    "\n",
    "print('F-1 модели случайного леса на валидационной выборке:', f1_best, 'при n_estimators =', est_best, \n",
    "      'при max_depth =', depth_best)\n",
    "print('AUC-ROC модели случайного леса на валидационной выборке:', auc_roc_best, 'при n_estimators =', est,\n",
    "      'при max_depth =', depth)"
   ]
  },
  {
   "cell_type": "markdown",
   "metadata": {},
   "source": [
    "#### Логистическая регрессия"
   ]
  },
  {
   "cell_type": "code",
   "execution_count": 52,
   "metadata": {
    "scrolled": true
   },
   "outputs": [
    {
     "name": "stdout",
     "output_type": "stream",
     "text": [
      "F1 модели логистической регрессии на валидационной выборке: 0.48048568950563747\n",
      "AUC-ROC модели логистической регрессии на валидационной выборке: 0.7617379127625984\n"
     ]
    }
   ],
   "source": [
    "model = LogisticRegression(random_state=12345, solver='liblinear')\n",
    "model.fit(features_downsampled, target_downsampled)\n",
    "predicted_valid = model.predict(features_valid)\n",
    "probabilities_valid = model.predict_proba(features_valid)[:, 1]\n",
    "print(\"F1 модели логистической регрессии на валидационной выборке:\", f1_score(target_valid, predicted_valid))\n",
    "print('AUC-ROC модели логистической регрессии на валидационной выборке:', roc_auc_score(target_valid, probabilities_valid))\n"
   ]
  },
  {
   "cell_type": "markdown",
   "metadata": {},
   "source": [
    "При уменьшении выборки лучшей из моделей оказалась модель случайного леса, которая на валидационной выборке при n_estimators = 27 и при max_depth = 7 показала значение f-1 = 0.599, однако это меньше, чем при сбалансированном весе - 0.633 и увеличении выборки - 0.630. AUC-ROC модели случайного леса на валидационной выборке: 0.85 при n_estimators = 29 при max_depth = 10, против 0.855 при сбалансированном весе и 0.854 при увеличении выборки."
   ]
  },
  {
   "cell_type": "code",
   "execution_count": 53,
   "metadata": {},
   "outputs": [
    {
     "data": {
      "text/plain": [
       "<Figure size 432x288 with 0 Axes>"
      ]
     },
     "metadata": {},
     "output_type": "display_data"
    },
    {
     "data": {
      "image/png": "[encoded data removed]",
      "text/plain": [
       "<Figure size 720x504 with 1 Axes>"
      ]
     },
     "metadata": {
      "needs_background": "light"
     },
     "output_type": "display_data"
    }
   ],
   "source": [
    "plt.figure()\n",
    "\n",
    "plt.figure(figsize=(10,7))\n",
    "plt.plot([0, 1], [0, 1], linestyle='--')\n",
    "plt.xlim([0.0, 1.0])\n",
    "plt.ylim([0.0, 1.0])\n",
    "plt.plot(fpr_tree,tpr_tree)\n",
    "plt.plot(fpr_forest,tpr_forest)\n",
    "plt.plot(fpr_logistic,tpr_logistic)\n",
    "plt.xlabel('False Positive Rate')\n",
    "plt.ylabel('True Positive Rate')\n",
    "plt.title('ROC-кривая')\n",
    "plt.legend(('Случайная модель','Логистическая регрессия','Случайный лес','Решающее дерево'),\n",
    "           loc= 'upper left') \n",
    "plt.show()"
   ]
  },
  {
   "cell_type": "markdown",
   "metadata": {},
   "source": [
    "В целом при борьбе с дисбалансом можно сделать следующие выводы:\n",
    "- Самой лучшей моделью оказалась модель случайного леса при сбалансированном весе, которая на валидационной выборке при n_estimators = 30 и при max_depth = 8 показала значение f-1 = 0.634. AUC-ROC модели случайного леса на валидационной выборке: 0.858 при n_estimators = 39 при max_depth = 1;\n",
    "- Модель случайного леса при увеличении выборки показала результаты на валидационной выборке чуть хуже - при n_estimators = 83 и при max_depth = 10 показала значение f-1 = 0.626, однако это чуть меньше, чем при сбалансированном весе - 0.634. AUC-ROC модели случайного леса на валидационной выборке: 0.854 при n_estimators = 89 при max_depth = 10, против 0.855 при сбалансированном весе;\n",
    "- AUC-ROC модели случайного леса на валидационной выборке при дюбом способе практически одинаков: 0.851 при дисбалансе, 0.854 при увеличении и уменьшении выборки и 0.855 при сбалансированном классе;\n",
    "- Модель логистической регрессии при борьбе с дисбалансом показала примерно одинаковый результат 0.487-0.49, однако это повысило показатель f-1, который составлял при дисбалансе 0.325. Однако F-1 мера все равно сильно меньше требуемого порога - 0.59."
   ]
  },
  {
   "cell_type": "markdown",
   "metadata": {},
   "source": [
    "## Тестирование модели"
   ]
  },
  {
   "cell_type": "markdown",
   "metadata": {},
   "source": [
    "Так как F-1 мера практически одинакова у модели логистической регрессии при сбалансированном весе и при увеличении выборки, протестируем модель 2 способами."
   ]
  },
  {
   "cell_type": "markdown",
   "metadata": {},
   "source": [
    "### Модель случайного леса при сбалансированном весе."
   ]
  },
  {
   "cell_type": "code",
   "execution_count": 54,
   "metadata": {
    "scrolled": true
   },
   "outputs": [
    {
     "name": "stdout",
     "output_type": "stream",
     "text": [
      "F-1 модели случайного леса на тестовой выборке при сбалансированном весе: 0.5943600867678959\n",
      "AUC-ROC модели случайного леса на тестовой выборке при увеличении выборки: 0.8490010808444679\n"
     ]
    }
   ],
   "source": [
    "model = RandomForestClassifier(random_state=12345, n_estimators=30, max_depth=8, class_weight='balanced')\n",
    "model.fit(features_train, target_train)\n",
    "prediction_test = model.predict(features_test)\n",
    "probabilities_test = model.predict_proba(features_test)[:, 1]\n",
    "f1 = f1_score(target_test, prediction_test)\n",
    "auc_roc = roc_auc_score(target_test, probabilities_test)\n",
    "        \n",
    "print('F-1 модели случайного леса на тестовой выборке при сбалансированном весе:', f1)\n",
    "print('AUC-ROC модели случайного леса на тестовой выборке при увеличении выборки:', auc_roc) "
   ]
  },
  {
   "cell_type": "markdown",
   "metadata": {},
   "source": [
    "### Модель случайного леса при увеличении выборки."
   ]
  },
  {
   "cell_type": "code",
   "execution_count": 55,
   "metadata": {
    "scrolled": false
   },
   "outputs": [
    {
     "name": "stdout",
     "output_type": "stream",
     "text": [
      "F-1 модели случайного леса на тестовой выборке при увеличенной выборке: 0.6167023554603853\n",
      "AUC-ROC модели случайного леса на тестовой выборке при увеличенной выборке: 0.8553047576644767\n"
     ]
    }
   ],
   "source": [
    "model = RandomForestClassifier(random_state=12345, n_estimators=83, max_depth=10)\n",
    "model.fit(features_upsampled, target_upsampled)\n",
    "prediction_test = model.predict(features_test)\n",
    "probabilities_test = model.predict_proba(features_test)[:, 1]\n",
    "f1 = f1_score(target_test, prediction_test)\n",
    "auc_roc = roc_auc_score(target_test, probabilities_test)\n",
    "       \n",
    "print('F-1 модели случайного леса на тестовой выборке при увеличенной выборке:', f1)\n",
    "print('AUC-ROC модели случайного леса на тестовой выборке при увеличенной выборке:', auc_roc)"
   ]
  },
  {
   "cell_type": "markdown",
   "metadata": {},
   "source": [
    "### Сравнение модели со случайной"
   ]
  },
  {
   "cell_type": "code",
   "execution_count": 56,
   "metadata": {
    "scrolled": true
   },
   "outputs": [
    {
     "name": "stdout",
     "output_type": "stream",
     "text": [
      "F-1 случайной модели на тестовой выборке: 0.6167023554603853\n"
     ]
    }
   ],
   "source": [
    "predicted_test = pd.Series(target_train.mean(), index=target_test.index)\n",
    "f1 = f1_score(target_test, prediction_test)\n",
    "print('F-1 случайной модели на тестовой выборке:', f1)"
   ]
  },
  {
   "cell_type": "markdown",
   "metadata": {},
   "source": [
    "Протестировав модели на тестовой выборке мы получили следующие показатели: \n",
    "- F-1 модели случайного леса на тестовой выборке при сбалансированном весе: 0.594 при n_estimators = 30 при max_depth = 8, AUC-ROC модели случайного леса на тестовой выборке при увеличении выборки: 0.849;\n",
    "- F-1 модели случайного леса на тестовой выборке при увеличенной выборке: 0.616 при n_estimators = 83 при max_depth = 10, AUC-ROC модели случайного леса на тестовой выборке при увеличенной выборке: 0.855;\n",
    "- F-1 случайной модели на тестовой выборке: 0.616."
   ]
  },
  {
   "cell_type": "code",
   "execution_count": 57,
   "metadata": {
    "scrolled": false
   },
   "outputs": [
    {
     "data": {
      "text/html": [
       "<div>\n",
       "<style scoped>\n",
       "    .dataframe tbody tr th:only-of-type {\n",
       "        vertical-align: middle;\n",
       "    }\n",
       "\n",
       "    .dataframe tbody tr th {\n",
       "        vertical-align: top;\n",
       "    }\n",
       "\n",
       "    .dataframe thead th {\n",
       "        text-align: right;\n",
       "    }\n",
       "</style>\n",
       "<table border=\"1\" class=\"dataframe\">\n",
       "  <thead>\n",
       "    <tr style=\"text-align: right;\">\n",
       "      <th></th>\n",
       "      <th>feature</th>\n",
       "      <th>importance</th>\n",
       "    </tr>\n",
       "  </thead>\n",
       "  <tbody>\n",
       "    <tr>\n",
       "      <th>0</th>\n",
       "      <td>Age</td>\n",
       "      <td>0.311904</td>\n",
       "    </tr>\n",
       "    <tr>\n",
       "      <th>1</th>\n",
       "      <td>NumOfProducts</td>\n",
       "      <td>0.195490</td>\n",
       "    </tr>\n",
       "    <tr>\n",
       "      <th>2</th>\n",
       "      <td>Balance</td>\n",
       "      <td>0.116382</td>\n",
       "    </tr>\n",
       "    <tr>\n",
       "      <th>3</th>\n",
       "      <td>EstimatedSalary</td>\n",
       "      <td>0.083862</td>\n",
       "    </tr>\n",
       "    <tr>\n",
       "      <th>4</th>\n",
       "      <td>CreditScore</td>\n",
       "      <td>0.079218</td>\n",
       "    </tr>\n",
       "    <tr>\n",
       "      <th>5</th>\n",
       "      <td>IsActiveMember</td>\n",
       "      <td>0.062457</td>\n",
       "    </tr>\n",
       "    <tr>\n",
       "      <th>6</th>\n",
       "      <td>Geography_Germany</td>\n",
       "      <td>0.053458</td>\n",
       "    </tr>\n",
       "    <tr>\n",
       "      <th>7</th>\n",
       "      <td>Tenure</td>\n",
       "      <td>0.047231</td>\n",
       "    </tr>\n",
       "    <tr>\n",
       "      <th>8</th>\n",
       "      <td>Gender_Male</td>\n",
       "      <td>0.028560</td>\n",
       "    </tr>\n",
       "    <tr>\n",
       "      <th>9</th>\n",
       "      <td>HasCrCard</td>\n",
       "      <td>0.012114</td>\n",
       "    </tr>\n",
       "  </tbody>\n",
       "</table>\n",
       "</div>"
      ],
      "text/plain": [
       "             feature  importance\n",
       "0                Age    0.311904\n",
       "1      NumOfProducts    0.195490\n",
       "2            Balance    0.116382\n",
       "3    EstimatedSalary    0.083862\n",
       "4        CreditScore    0.079218\n",
       "5     IsActiveMember    0.062457\n",
       "6  Geography_Germany    0.053458\n",
       "7             Tenure    0.047231\n",
       "8        Gender_Male    0.028560\n",
       "9          HasCrCard    0.012114"
      ]
     },
     "execution_count": 57,
     "metadata": {},
     "output_type": "execute_result"
    }
   ],
   "source": [
    "# Определяем важности признаков\n",
    "importances = model.feature_importances_\n",
    "\n",
    "# Создаем список с названиями признаков\n",
    "feature_list = list(features_train.columns)\n",
    "\n",
    "# Создаем датафрейм\n",
    "feature_results = pd.DataFrame({'feature': feature_list,'importance': importances})\n",
    "\n",
    "# Сортируем feature_results в порядке убывания, сбрасываем индексацию\n",
    "feature_results = feature_results.sort_values('importance', ascending=False).reset_index(drop=True)\n",
    "\n",
    "feature_results.head(10)"
   ]
  },
  {
   "cell_type": "code",
   "execution_count": 58,
   "metadata": {
    "scrolled": true
   },
   "outputs": [
    {
     "data": {
      "image/png": "[encoded data removed]",
      "text/plain": [
       "<Figure size 1080x432 with 1 Axes>"
      ]
     },
     "metadata": {
      "needs_background": "light"
     },
     "output_type": "display_data"
    }
   ],
   "source": [
    "feature_results.plot(figsize=(15,6), kind='bar')\n",
    "plt.title('Гистограмма важности признаков')\n",
    "plt.xlabel('Признак')\n",
    "plt.ylabel('Важность')\n",
    "plt.legend([])\n",
    "plt.show()"
   ]
  },
  {
   "cell_type": "markdown",
   "metadata": {},
   "source": [
    "Самыми важными признаками являются Age - возраст клиента и NumOfProducts — количество продуктов банка, используемых клиентом, на них около 60% суммарной значимости.  Уже у третьего признака важность сильно падает, это может говорить о том, что нам не нужно использовать все признака для достижения высокой точности прогнозирования."
   ]
  }
 ],
 "metadata": {
  "ExecuteTimeLog": [
   {
    "duration": 1101,
    "start_time": "2022-02-07T08:48:22.904Z"
   },
   {
    "duration": 26,
    "start_time": "2022-02-07T08:48:37.675Z"
   },
   {
    "duration": 6,
    "start_time": "2022-02-07T08:50:17.584Z"
   },
   {
    "duration": 5,
    "start_time": "2022-02-07T08:50:31.114Z"
   },
   {
    "duration": 8,
    "start_time": "2022-02-07T08:51:24.551Z"
   },
   {
    "duration": 128,
    "start_time": "2022-02-07T08:55:54.611Z"
   },
   {
    "duration": 27,
    "start_time": "2022-02-07T08:55:55.640Z"
   },
   {
    "duration": 5,
    "start_time": "2022-02-07T09:08:44.044Z"
   },
   {
    "duration": 321,
    "start_time": "2022-02-07T09:09:38.565Z"
   },
   {
    "duration": 232,
    "start_time": "2022-02-07T09:09:54.436Z"
   },
   {
    "duration": 31,
    "start_time": "2022-02-07T09:10:06.129Z"
   },
   {
    "duration": 20,
    "start_time": "2022-02-07T09:10:06.662Z"
   },
   {
    "duration": 5,
    "start_time": "2022-02-07T09:10:08.303Z"
   },
   {
    "duration": 5,
    "start_time": "2022-02-07T09:13:17.891Z"
   },
   {
    "duration": 16,
    "start_time": "2022-02-07T09:13:45.771Z"
   },
   {
    "duration": 8,
    "start_time": "2022-02-07T09:13:51.669Z"
   },
   {
    "duration": 9,
    "start_time": "2022-02-07T09:13:56.973Z"
   },
   {
    "duration": 24,
    "start_time": "2022-02-07T09:16:30.035Z"
   },
   {
    "duration": 16,
    "start_time": "2022-02-07T09:17:13.646Z"
   },
   {
    "duration": 24,
    "start_time": "2022-02-07T09:17:41.932Z"
   },
   {
    "duration": 5,
    "start_time": "2022-02-07T09:21:22.988Z"
   },
   {
    "duration": 9,
    "start_time": "2022-02-07T09:24:14.526Z"
   },
   {
    "duration": 19,
    "start_time": "2022-02-07T09:31:04.366Z"
   },
   {
    "duration": 33,
    "start_time": "2022-02-07T09:38:35.241Z"
   },
   {
    "duration": 21,
    "start_time": "2022-02-07T09:38:35.276Z"
   },
   {
    "duration": 5,
    "start_time": "2022-02-07T09:38:35.300Z"
   },
   {
    "duration": 13,
    "start_time": "2022-02-07T09:38:35.308Z"
   },
   {
    "duration": 11,
    "start_time": "2022-02-07T09:38:35.323Z"
   },
   {
    "duration": 28,
    "start_time": "2022-02-07T09:38:35.337Z"
   },
   {
    "duration": 4,
    "start_time": "2022-02-07T09:38:35.367Z"
   },
   {
    "duration": 21,
    "start_time": "2022-02-07T09:38:35.373Z"
   },
   {
    "duration": 72,
    "start_time": "2022-02-07T09:38:35.419Z"
   },
   {
    "duration": 72,
    "start_time": "2022-02-07T09:39:23.999Z"
   },
   {
    "duration": 96,
    "start_time": "2022-02-07T09:40:12.383Z"
   },
   {
    "duration": 69,
    "start_time": "2022-02-07T09:40:40.936Z"
   },
   {
    "duration": 35,
    "start_time": "2022-02-07T09:40:47.653Z"
   },
   {
    "duration": 24,
    "start_time": "2022-02-07T09:40:47.690Z"
   },
   {
    "duration": 24,
    "start_time": "2022-02-07T09:40:47.716Z"
   },
   {
    "duration": 26,
    "start_time": "2022-02-07T09:40:47.742Z"
   },
   {
    "duration": 8,
    "start_time": "2022-02-07T09:40:47.770Z"
   },
   {
    "duration": 45,
    "start_time": "2022-02-07T09:40:47.780Z"
   },
   {
    "duration": 5,
    "start_time": "2022-02-07T09:40:47.827Z"
   },
   {
    "duration": 21,
    "start_time": "2022-02-07T09:40:47.834Z"
   },
   {
    "duration": 190,
    "start_time": "2022-02-07T09:40:47.858Z"
   },
   {
    "duration": 37,
    "start_time": "2022-02-07T09:43:38.167Z"
   },
   {
    "duration": 37,
    "start_time": "2022-02-07T09:43:49.466Z"
   },
   {
    "duration": 68,
    "start_time": "2022-02-07T09:44:31.892Z"
   },
   {
    "duration": 24,
    "start_time": "2022-02-07T09:47:03.929Z"
   },
   {
    "duration": 226,
    "start_time": "2022-02-07T09:49:23.559Z"
   },
   {
    "duration": 214,
    "start_time": "2022-02-07T09:50:27.070Z"
   },
   {
    "duration": 212,
    "start_time": "2022-02-07T09:54:57.807Z"
   },
   {
    "duration": 5863,
    "start_time": "2022-02-07T09:55:16.261Z"
   },
   {
    "duration": 5554,
    "start_time": "2022-02-07T09:56:15.277Z"
   },
   {
    "duration": 32,
    "start_time": "2022-02-07T09:56:27.686Z"
   },
   {
    "duration": 20,
    "start_time": "2022-02-07T09:56:27.720Z"
   },
   {
    "duration": 4,
    "start_time": "2022-02-07T09:56:27.742Z"
   },
   {
    "duration": 12,
    "start_time": "2022-02-07T09:56:27.748Z"
   },
   {
    "duration": 8,
    "start_time": "2022-02-07T09:56:27.762Z"
   },
   {
    "duration": 58,
    "start_time": "2022-02-07T09:56:27.772Z"
   },
   {
    "duration": 4,
    "start_time": "2022-02-07T09:56:27.831Z"
   },
   {
    "duration": 17,
    "start_time": "2022-02-07T09:56:27.837Z"
   },
   {
    "duration": 6097,
    "start_time": "2022-02-07T09:56:27.856Z"
   },
   {
    "duration": 27,
    "start_time": "2022-02-07T09:56:51.004Z"
   },
   {
    "duration": 211,
    "start_time": "2022-02-07T10:03:47.395Z"
   },
   {
    "duration": 237,
    "start_time": "2022-02-07T10:03:52.889Z"
   },
   {
    "duration": 240,
    "start_time": "2022-02-07T10:05:19.118Z"
   },
   {
    "duration": 25,
    "start_time": "2022-02-07T10:05:53.741Z"
   },
   {
    "duration": 438,
    "start_time": "2022-02-07T10:07:50.594Z"
   },
   {
    "duration": 22,
    "start_time": "2022-02-07T10:10:13.304Z"
   },
   {
    "duration": 32,
    "start_time": "2022-02-07T10:10:36.131Z"
   },
   {
    "duration": 31,
    "start_time": "2022-02-07T10:23:10.218Z"
   },
   {
    "duration": 18,
    "start_time": "2022-02-07T10:23:10.252Z"
   },
   {
    "duration": 5,
    "start_time": "2022-02-07T10:23:10.272Z"
   },
   {
    "duration": 17,
    "start_time": "2022-02-07T10:23:10.279Z"
   },
   {
    "duration": 25,
    "start_time": "2022-02-07T10:23:10.298Z"
   },
   {
    "duration": 25,
    "start_time": "2022-02-07T10:23:10.325Z"
   },
   {
    "duration": 6,
    "start_time": "2022-02-07T10:23:10.352Z"
   },
   {
    "duration": 24,
    "start_time": "2022-02-07T10:23:10.360Z"
   },
   {
    "duration": 35,
    "start_time": "2022-02-07T10:23:10.418Z"
   },
   {
    "duration": 27,
    "start_time": "2022-02-07T10:24:05.377Z"
   },
   {
    "duration": 32,
    "start_time": "2022-02-07T10:28:38.997Z"
   },
   {
    "duration": 20,
    "start_time": "2022-02-07T10:28:39.030Z"
   },
   {
    "duration": 5,
    "start_time": "2022-02-07T10:28:39.053Z"
   },
   {
    "duration": 13,
    "start_time": "2022-02-07T10:28:39.061Z"
   },
   {
    "duration": 10,
    "start_time": "2022-02-07T10:28:39.076Z"
   },
   {
    "duration": 55,
    "start_time": "2022-02-07T10:28:39.088Z"
   },
   {
    "duration": 7,
    "start_time": "2022-02-07T10:28:39.145Z"
   },
   {
    "duration": 19,
    "start_time": "2022-02-07T10:28:39.154Z"
   },
   {
    "duration": 87,
    "start_time": "2022-02-07T10:28:39.176Z"
   },
   {
    "duration": 38,
    "start_time": "2022-02-07T10:29:58.678Z"
   },
   {
    "duration": 19,
    "start_time": "2022-02-07T10:29:58.718Z"
   },
   {
    "duration": 4,
    "start_time": "2022-02-07T10:29:58.739Z"
   },
   {
    "duration": 12,
    "start_time": "2022-02-07T10:29:58.745Z"
   },
   {
    "duration": 11,
    "start_time": "2022-02-07T10:29:58.759Z"
   },
   {
    "duration": 58,
    "start_time": "2022-02-07T10:29:58.772Z"
   },
   {
    "duration": 5,
    "start_time": "2022-02-07T10:29:58.832Z"
   },
   {
    "duration": 28,
    "start_time": "2022-02-07T10:29:58.839Z"
   },
   {
    "duration": 34,
    "start_time": "2022-02-07T10:29:58.869Z"
   },
   {
    "duration": 6847,
    "start_time": "2022-02-07T10:29:58.919Z"
   },
   {
    "duration": 7,
    "start_time": "2022-02-07T10:30:27.585Z"
   },
   {
    "duration": 137,
    "start_time": "2022-02-07T10:31:28.479Z"
   },
   {
    "duration": 136,
    "start_time": "2022-02-07T10:33:03.582Z"
   },
   {
    "duration": 148,
    "start_time": "2022-02-07T10:33:45.451Z"
   },
   {
    "duration": 145,
    "start_time": "2022-02-07T10:35:04.179Z"
   },
   {
    "duration": 162,
    "start_time": "2022-02-07T10:35:22.298Z"
   },
   {
    "duration": 144,
    "start_time": "2022-02-07T10:35:47.512Z"
   },
   {
    "duration": 226,
    "start_time": "2022-02-07T10:35:55.859Z"
   },
   {
    "duration": 630,
    "start_time": "2022-02-07T11:27:50.228Z"
   },
   {
    "duration": 163,
    "start_time": "2022-02-07T11:28:04.253Z"
   },
   {
    "duration": 147,
    "start_time": "2022-02-07T11:28:18.025Z"
   },
   {
    "duration": 375,
    "start_time": "2022-02-07T11:36:42.402Z"
   },
   {
    "duration": 99,
    "start_time": "2022-02-07T11:37:51.058Z"
   },
   {
    "duration": 215,
    "start_time": "2022-02-07T11:38:04.611Z"
   },
   {
    "duration": 284,
    "start_time": "2022-02-07T11:38:15.411Z"
   },
   {
    "duration": 170,
    "start_time": "2022-02-07T11:38:37.186Z"
   },
   {
    "duration": 162,
    "start_time": "2022-02-07T11:38:40.508Z"
   },
   {
    "duration": 138,
    "start_time": "2022-02-07T11:38:47.117Z"
   },
   {
    "duration": 151,
    "start_time": "2022-02-07T11:38:51.263Z"
   },
   {
    "duration": 156,
    "start_time": "2022-02-07T11:38:54.256Z"
   },
   {
    "duration": 166,
    "start_time": "2022-02-07T11:38:56.892Z"
   },
   {
    "duration": 266,
    "start_time": "2022-02-07T11:39:02.233Z"
   },
   {
    "duration": 156,
    "start_time": "2022-02-07T11:39:11.053Z"
   },
   {
    "duration": 41,
    "start_time": "2022-02-07T11:43:39.021Z"
   },
   {
    "duration": 295,
    "start_time": "2022-02-07T11:51:33.917Z"
   },
   {
    "duration": 35,
    "start_time": "2022-02-07T11:55:45.240Z"
   },
   {
    "duration": 23,
    "start_time": "2022-02-07T11:55:45.278Z"
   },
   {
    "duration": 5,
    "start_time": "2022-02-07T11:55:45.304Z"
   },
   {
    "duration": 14,
    "start_time": "2022-02-07T11:55:45.311Z"
   },
   {
    "duration": 15,
    "start_time": "2022-02-07T11:55:45.327Z"
   },
   {
    "duration": 50,
    "start_time": "2022-02-07T11:55:45.344Z"
   },
   {
    "duration": 9,
    "start_time": "2022-02-07T11:55:45.396Z"
   },
   {
    "duration": 37,
    "start_time": "2022-02-07T11:55:45.408Z"
   },
   {
    "duration": 52,
    "start_time": "2022-02-07T11:55:45.448Z"
   },
   {
    "duration": 247,
    "start_time": "2022-02-07T11:55:45.502Z"
   },
   {
    "duration": 247,
    "start_time": "2022-02-07T11:55:45.751Z"
   },
   {
    "duration": 573,
    "start_time": "2022-02-07T11:55:46.000Z"
   },
   {
    "duration": 405,
    "start_time": "2022-02-07T11:56:08.455Z"
   },
   {
    "duration": 39,
    "start_time": "2022-02-07T11:56:52.713Z"
   },
   {
    "duration": 38,
    "start_time": "2022-02-07T11:57:44.156Z"
   },
   {
    "duration": 5198,
    "start_time": "2022-02-07T12:05:24.396Z"
   },
   {
    "duration": 21566,
    "start_time": "2022-02-07T12:06:31.876Z"
   },
   {
    "duration": 12688,
    "start_time": "2022-02-07T12:07:10.836Z"
   },
   {
    "duration": 62783,
    "start_time": "2022-02-07T12:07:50.699Z"
   },
   {
    "duration": 6874,
    "start_time": "2022-02-07T12:09:55.232Z"
   },
   {
    "duration": 4485,
    "start_time": "2022-02-07T12:10:17.485Z"
   },
   {
    "duration": 34,
    "start_time": "2022-02-07T12:16:04.464Z"
   },
   {
    "duration": 32,
    "start_time": "2022-02-07T12:17:24.903Z"
   },
   {
    "duration": 30,
    "start_time": "2022-02-07T12:17:35.515Z"
   },
   {
    "duration": 32,
    "start_time": "2022-02-07T12:17:44.779Z"
   },
   {
    "duration": 4762,
    "start_time": "2022-02-07T12:18:52.333Z"
   },
   {
    "duration": 217,
    "start_time": "2022-02-07T12:20:21.805Z"
   },
   {
    "duration": 92,
    "start_time": "2022-02-07T12:20:46.050Z"
   },
   {
    "duration": 373,
    "start_time": "2022-02-07T12:21:49.941Z"
   },
   {
    "duration": 5190,
    "start_time": "2022-02-07T12:22:01.595Z"
   },
   {
    "duration": 26189,
    "start_time": "2022-02-07T12:23:03.031Z"
   },
   {
    "duration": 6002,
    "start_time": "2022-02-07T12:24:04.003Z"
   },
   {
    "duration": 27,
    "start_time": "2022-02-07T12:27:23.512Z"
   },
   {
    "duration": 39,
    "start_time": "2022-02-07T12:27:39.279Z"
   },
   {
    "duration": 29,
    "start_time": "2022-02-07T12:28:50.900Z"
   },
   {
    "duration": 40,
    "start_time": "2022-02-07T12:33:36.082Z"
   },
   {
    "duration": 107,
    "start_time": "2022-02-07T12:34:03.463Z"
   },
   {
    "duration": 46,
    "start_time": "2022-02-07T12:34:38.474Z"
   },
   {
    "duration": 2,
    "start_time": "2022-02-07T12:45:45.853Z"
   },
   {
    "duration": 1443,
    "start_time": "2022-02-07T12:46:37.871Z"
   },
   {
    "duration": 168,
    "start_time": "2022-02-07T12:47:27.649Z"
   },
   {
    "duration": 283,
    "start_time": "2022-02-07T12:47:41.726Z"
   },
   {
    "duration": 39,
    "start_time": "2022-02-07T12:48:43.625Z"
   },
   {
    "duration": 327,
    "start_time": "2022-02-07T12:50:56.293Z"
   },
   {
    "duration": 5349,
    "start_time": "2022-02-07T12:53:05.570Z"
   },
   {
    "duration": 5344,
    "start_time": "2022-02-07T12:54:33.542Z"
   },
   {
    "duration": 71316,
    "start_time": "2022-02-07T12:56:19.063Z"
   },
   {
    "duration": 33,
    "start_time": "2022-02-07T12:58:03.581Z"
   },
   {
    "duration": 22,
    "start_time": "2022-02-07T12:58:03.616Z"
   },
   {
    "duration": 5,
    "start_time": "2022-02-07T12:58:03.641Z"
   },
   {
    "duration": 18,
    "start_time": "2022-02-07T12:58:03.649Z"
   },
   {
    "duration": 18,
    "start_time": "2022-02-07T12:58:03.669Z"
   },
   {
    "duration": 43,
    "start_time": "2022-02-07T12:58:03.689Z"
   },
   {
    "duration": 5,
    "start_time": "2022-02-07T12:58:03.735Z"
   },
   {
    "duration": 22,
    "start_time": "2022-02-07T12:58:03.742Z"
   },
   {
    "duration": 60,
    "start_time": "2022-02-07T12:58:03.766Z"
   },
   {
    "duration": 177,
    "start_time": "2022-02-07T12:58:03.829Z"
   },
   {
    "duration": 177,
    "start_time": "2022-02-07T12:58:04.007Z"
   },
   {
    "duration": 45,
    "start_time": "2022-02-07T12:58:04.188Z"
   },
   {
    "duration": 5741,
    "start_time": "2022-02-07T12:58:04.235Z"
   },
   {
    "duration": 119,
    "start_time": "2022-02-07T12:58:09.978Z"
   },
   {
    "duration": 232,
    "start_time": "2022-02-07T12:58:10.099Z"
   },
   {
    "duration": 337,
    "start_time": "2022-02-07T12:58:10.333Z"
   },
   {
    "duration": 68251,
    "start_time": "2022-02-07T12:58:10.672Z"
   },
   {
    "duration": 144,
    "start_time": "2022-02-07T13:02:55.875Z"
   },
   {
    "duration": 5873,
    "start_time": "2022-02-07T13:06:42.247Z"
   },
   {
    "duration": 222,
    "start_time": "2022-02-07T13:21:05.978Z"
   },
   {
    "duration": 14,
    "start_time": "2022-02-07T13:21:21.970Z"
   },
   {
    "duration": 15,
    "start_time": "2022-02-07T13:22:56.147Z"
   },
   {
    "duration": 71,
    "start_time": "2022-02-07T13:23:10.550Z"
   },
   {
    "duration": 400,
    "start_time": "2022-02-07T13:26:22.784Z"
   },
   {
    "duration": 104874,
    "start_time": "2022-02-07T13:29:50.387Z"
   },
   {
    "duration": 33,
    "start_time": "2022-02-07T13:33:34.976Z"
   },
   {
    "duration": 21,
    "start_time": "2022-02-07T13:33:35.011Z"
   },
   {
    "duration": 31,
    "start_time": "2022-02-07T13:33:35.034Z"
   },
   {
    "duration": 27,
    "start_time": "2022-02-07T13:33:35.067Z"
   },
   {
    "duration": 9,
    "start_time": "2022-02-07T13:33:35.096Z"
   },
   {
    "duration": 47,
    "start_time": "2022-02-07T13:33:35.106Z"
   },
   {
    "duration": 4,
    "start_time": "2022-02-07T13:33:35.155Z"
   },
   {
    "duration": 30,
    "start_time": "2022-02-07T13:33:35.160Z"
   },
   {
    "duration": 45,
    "start_time": "2022-02-07T13:33:35.193Z"
   },
   {
    "duration": 159,
    "start_time": "2022-02-07T13:33:35.241Z"
   },
   {
    "duration": 196,
    "start_time": "2022-02-07T13:33:35.402Z"
   },
   {
    "duration": 4776,
    "start_time": "2022-02-07T13:33:35.600Z"
   },
   {
    "duration": 239,
    "start_time": "2022-02-07T13:33:40.379Z"
   },
   {
    "duration": 354,
    "start_time": "2022-02-07T13:33:40.621Z"
   },
   {
    "duration": 76893,
    "start_time": "2022-02-07T13:33:40.977Z"
   },
   {
    "duration": 148,
    "start_time": "2022-02-07T13:34:57.872Z"
   },
   {
    "duration": 109,
    "start_time": "2022-02-07T13:34:58.023Z"
   },
   {
    "duration": 444,
    "start_time": "2022-02-07T13:34:58.134Z"
   },
   {
    "duration": 100305,
    "start_time": "2022-02-07T13:34:58.580Z"
   },
   {
    "duration": 132,
    "start_time": "2022-02-07T13:36:38.887Z"
   },
   {
    "duration": 107,
    "start_time": "2022-02-07T13:39:18.617Z"
   },
   {
    "duration": 13,
    "start_time": "2022-02-07T13:43:22.562Z"
   },
   {
    "duration": 159,
    "start_time": "2022-02-07T13:45:11.432Z"
   },
   {
    "duration": 35465,
    "start_time": "2022-02-07T13:46:35.760Z"
   },
   {
    "duration": 44,
    "start_time": "2022-02-07T13:49:09.480Z"
   },
   {
    "duration": 71,
    "start_time": "2022-02-07T13:56:59.735Z"
   },
   {
    "duration": 4,
    "start_time": "2022-02-07T13:57:08.780Z"
   },
   {
    "duration": 7,
    "start_time": "2022-02-07T13:57:16.638Z"
   },
   {
    "duration": 7,
    "start_time": "2022-02-07T13:59:00.099Z"
   },
   {
    "duration": 252,
    "start_time": "2022-02-07T13:59:13.189Z"
   },
   {
    "duration": 251,
    "start_time": "2022-02-07T13:59:17.663Z"
   },
   {
    "duration": 8,
    "start_time": "2022-02-07T13:59:31.287Z"
   },
   {
    "duration": 8,
    "start_time": "2022-02-07T14:03:13.173Z"
   },
   {
    "duration": 33,
    "start_time": "2022-02-07T14:06:31.258Z"
   },
   {
    "duration": 26,
    "start_time": "2022-02-07T14:06:31.294Z"
   },
   {
    "duration": 21,
    "start_time": "2022-02-07T14:06:31.323Z"
   },
   {
    "duration": 37,
    "start_time": "2022-02-07T14:06:31.346Z"
   },
   {
    "duration": 17,
    "start_time": "2022-02-07T14:06:31.386Z"
   },
   {
    "duration": 46,
    "start_time": "2022-02-07T14:06:31.405Z"
   },
   {
    "duration": 6,
    "start_time": "2022-02-07T14:06:31.453Z"
   },
   {
    "duration": 31,
    "start_time": "2022-02-07T14:06:31.461Z"
   },
   {
    "duration": 38,
    "start_time": "2022-02-07T14:06:31.494Z"
   },
   {
    "duration": 161,
    "start_time": "2022-02-07T14:06:31.534Z"
   },
   {
    "duration": 208,
    "start_time": "2022-02-07T14:06:31.696Z"
   },
   {
    "duration": 70118,
    "start_time": "2022-02-07T14:06:31.906Z"
   },
   {
    "duration": 94,
    "start_time": "2022-02-07T14:07:42.026Z"
   },
   {
    "duration": 303,
    "start_time": "2022-02-07T14:07:42.122Z"
   },
   {
    "duration": 69150,
    "start_time": "2022-02-07T14:07:42.427Z"
   },
   {
    "duration": 140,
    "start_time": "2022-02-07T14:08:51.579Z"
   },
   {
    "duration": 105,
    "start_time": "2022-02-07T14:08:51.722Z"
   },
   {
    "duration": 411,
    "start_time": "2022-02-07T14:08:51.828Z"
   },
   {
    "duration": 91848,
    "start_time": "2022-02-07T14:08:52.241Z"
   },
   {
    "duration": 133,
    "start_time": "2022-02-07T14:10:24.091Z"
   },
   {
    "duration": 100,
    "start_time": "2022-02-07T14:10:24.226Z"
   },
   {
    "duration": 118,
    "start_time": "2022-02-07T14:10:24.328Z"
   },
   {
    "duration": 35878,
    "start_time": "2022-02-07T14:10:24.449Z"
   },
   {
    "duration": 96,
    "start_time": "2022-02-07T14:11:00.329Z"
   },
   {
    "duration": 97,
    "start_time": "2022-02-07T14:11:00.427Z"
   },
   {
    "duration": 35,
    "start_time": "2022-02-07T14:41:03.191Z"
   },
   {
    "duration": 20,
    "start_time": "2022-02-07T14:41:04.017Z"
   },
   {
    "duration": 5,
    "start_time": "2022-02-07T14:41:05.808Z"
   },
   {
    "duration": 11,
    "start_time": "2022-02-07T14:41:06.292Z"
   },
   {
    "duration": 10,
    "start_time": "2022-02-07T14:41:07.252Z"
   },
   {
    "duration": 24,
    "start_time": "2022-02-07T14:41:07.715Z"
   },
   {
    "duration": 5,
    "start_time": "2022-02-07T14:41:08.128Z"
   },
   {
    "duration": 15,
    "start_time": "2022-02-07T14:41:08.773Z"
   },
   {
    "duration": 36,
    "start_time": "2022-02-07T14:41:09.579Z"
   },
   {
    "duration": 173,
    "start_time": "2022-02-07T14:41:11.250Z"
   },
   {
    "duration": 293,
    "start_time": "2022-02-07T14:41:18.400Z"
   },
   {
    "duration": 352,
    "start_time": "2022-02-07T14:41:25.035Z"
   },
   {
    "duration": 332384,
    "start_time": "2022-02-07T14:47:19.097Z"
   },
   {
    "duration": 5,
    "start_time": "2022-02-07T14:54:15.023Z"
   },
   {
    "duration": 28242,
    "start_time": "2022-02-07T14:54:45.085Z"
   },
   {
    "duration": 29134,
    "start_time": "2022-02-07T14:56:19.451Z"
   },
   {
    "duration": 105,
    "start_time": "2022-02-07T14:57:09.223Z"
   },
   {
    "duration": 277,
    "start_time": "2022-02-07T14:58:00.307Z"
   },
   {
    "duration": 158,
    "start_time": "2022-02-07T14:58:20.905Z"
   },
   {
    "duration": 189,
    "start_time": "2022-02-07T14:58:47.807Z"
   },
   {
    "duration": 17739,
    "start_time": "2022-02-07T14:59:10.480Z"
   },
   {
    "duration": 48933,
    "start_time": "2022-02-07T15:00:00.466Z"
   },
   {
    "duration": 15714,
    "start_time": "2022-02-07T15:01:16.120Z"
   },
   {
    "duration": 80,
    "start_time": "2022-02-07T15:01:46.346Z"
   },
   {
    "duration": 263,
    "start_time": "2022-02-07T15:02:46.138Z"
   },
   {
    "duration": 15605,
    "start_time": "2022-02-07T15:03:19.714Z"
   },
   {
    "duration": 14384,
    "start_time": "2022-02-07T15:04:59.446Z"
   },
   {
    "duration": 17828,
    "start_time": "2022-02-07T15:05:43.064Z"
   },
   {
    "duration": 17843,
    "start_time": "2022-02-07T15:06:21.545Z"
   },
   {
    "duration": 21065,
    "start_time": "2022-02-07T15:07:01.173Z"
   },
   {
    "duration": 25007,
    "start_time": "2022-02-07T15:07:42.879Z"
   },
   {
    "duration": 21326,
    "start_time": "2022-02-07T15:08:26.852Z"
   },
   {
    "duration": 52,
    "start_time": "2022-02-07T15:09:14.676Z"
   },
   {
    "duration": 13,
    "start_time": "2022-02-07T15:10:20.718Z"
   },
   {
    "duration": 393,
    "start_time": "2022-02-07T15:10:23.591Z"
   },
   {
    "duration": 1599,
    "start_time": "2022-02-07T15:11:15.035Z"
   },
   {
    "duration": 4062,
    "start_time": "2022-02-07T15:12:00.938Z"
   },
   {
    "duration": 6608,
    "start_time": "2022-02-07T15:12:35.716Z"
   },
   {
    "duration": 9288,
    "start_time": "2022-02-07T15:13:02.081Z"
   },
   {
    "duration": 12853,
    "start_time": "2022-02-07T15:13:47.478Z"
   },
   {
    "duration": 14169,
    "start_time": "2022-02-07T15:14:25.279Z"
   },
   {
    "duration": 17240,
    "start_time": "2022-02-07T15:15:01.173Z"
   },
   {
    "duration": 20199,
    "start_time": "2022-02-07T15:15:36.093Z"
   },
   {
    "duration": 23890,
    "start_time": "2022-02-07T15:16:14.633Z"
   },
   {
    "duration": 28526,
    "start_time": "2022-02-07T15:19:23.423Z"
   },
   {
    "duration": 6771,
    "start_time": "2022-02-07T15:20:38.188Z"
   },
   {
    "duration": 22152,
    "start_time": "2022-02-07T15:20:58.266Z"
   },
   {
    "duration": 6851,
    "start_time": "2022-02-07T15:21:58.890Z"
   },
   {
    "duration": 39,
    "start_time": "2022-02-07T15:23:20.209Z"
   },
   {
    "duration": 22,
    "start_time": "2022-02-07T15:23:20.790Z"
   },
   {
    "duration": 6,
    "start_time": "2022-02-07T15:23:21.561Z"
   },
   {
    "duration": 11,
    "start_time": "2022-02-07T15:23:21.773Z"
   },
   {
    "duration": 9,
    "start_time": "2022-02-07T15:23:22.170Z"
   },
   {
    "duration": 27,
    "start_time": "2022-02-07T15:23:22.363Z"
   },
   {
    "duration": 5,
    "start_time": "2022-02-07T15:23:22.552Z"
   },
   {
    "duration": 15,
    "start_time": "2022-02-07T15:23:22.746Z"
   },
   {
    "duration": 36,
    "start_time": "2022-02-07T15:23:22.927Z"
   },
   {
    "duration": 155,
    "start_time": "2022-02-07T15:23:23.904Z"
   },
   {
    "duration": 299,
    "start_time": "2022-02-07T15:23:32.230Z"
   },
   {
    "duration": 3864,
    "start_time": "2022-02-07T15:23:47.739Z"
   },
   {
    "duration": 4852,
    "start_time": "2022-02-07T15:24:24.453Z"
   },
   {
    "duration": 6485,
    "start_time": "2022-02-07T15:24:47.210Z"
   },
   {
    "duration": 4646,
    "start_time": "2022-02-07T15:25:08.042Z"
   },
   {
    "duration": 1190,
    "start_time": "2022-02-07T15:25:19.094Z"
   },
   {
    "duration": 142,
    "start_time": "2022-02-07T15:25:49.087Z"
   },
   {
    "duration": 316,
    "start_time": "2022-02-07T15:26:12.846Z"
   },
   {
    "duration": 1598,
    "start_time": "2022-02-07T15:26:37.906Z"
   },
   {
    "duration": 3826,
    "start_time": "2022-02-07T15:26:57.661Z"
   },
   {
    "duration": 4774,
    "start_time": "2022-02-07T15:27:22.523Z"
   },
   {
    "duration": 6794,
    "start_time": "2022-02-07T15:27:44.950Z"
   },
   {
    "duration": 8322,
    "start_time": "2022-02-07T15:28:11.159Z"
   },
   {
    "duration": 10073,
    "start_time": "2022-02-07T15:28:30.436Z"
   },
   {
    "duration": 12638,
    "start_time": "2022-02-07T15:28:54.515Z"
   },
   {
    "duration": 13922,
    "start_time": "2022-02-07T15:29:23.322Z"
   },
   {
    "duration": 17002,
    "start_time": "2022-02-07T15:29:51.126Z"
   },
   {
    "duration": 39,
    "start_time": "2022-02-07T15:30:19.292Z"
   },
   {
    "duration": 15,
    "start_time": "2022-02-07T15:30:23.867Z"
   },
   {
    "duration": 404,
    "start_time": "2022-02-07T15:30:25.630Z"
   },
   {
    "duration": 6853,
    "start_time": "2022-02-07T15:30:29.871Z"
   },
   {
    "duration": 119,
    "start_time": "2022-02-07T15:30:40.508Z"
   },
   {
    "duration": 15,
    "start_time": "2022-02-07T15:30:46.047Z"
   },
   {
    "duration": 154,
    "start_time": "2022-02-07T15:30:47.771Z"
   },
   {
    "duration": 822,
    "start_time": "2022-02-07T15:31:41.550Z"
   },
   {
    "duration": 1719,
    "start_time": "2022-02-07T15:32:04.067Z"
   },
   {
    "duration": 6209,
    "start_time": "2022-02-07T15:32:22.592Z"
   },
   {
    "duration": 10541,
    "start_time": "2022-02-07T15:32:53.613Z"
   },
   {
    "duration": 14165,
    "start_time": "2022-02-07T15:33:21.781Z"
   },
   {
    "duration": 18984,
    "start_time": "2022-02-07T15:33:55.016Z"
   },
   {
    "duration": 5869,
    "start_time": "2022-02-07T15:34:29.814Z"
   },
   {
    "duration": 10708,
    "start_time": "2022-02-07T15:35:05.801Z"
   },
   {
    "duration": 105,
    "start_time": "2022-02-07T15:35:33.317Z"
   },
   {
    "duration": 1092,
    "start_time": "2022-02-08T07:54:25.035Z"
   },
   {
    "duration": 19,
    "start_time": "2022-02-08T07:54:26.205Z"
   },
   {
    "duration": 36,
    "start_time": "2022-02-08T07:54:30.659Z"
   },
   {
    "duration": 35,
    "start_time": "2022-02-08T08:10:10.063Z"
   },
   {
    "duration": 4,
    "start_time": "2022-02-08T08:10:13.583Z"
   },
   {
    "duration": 12,
    "start_time": "2022-02-08T08:11:34.595Z"
   },
   {
    "duration": 349,
    "start_time": "2022-02-08T08:13:18.065Z"
   },
   {
    "duration": 79,
    "start_time": "2022-02-08T08:14:03.708Z"
   },
   {
    "duration": 17,
    "start_time": "2022-02-08T08:14:04.251Z"
   },
   {
    "duration": 34,
    "start_time": "2022-02-08T08:14:05.219Z"
   },
   {
    "duration": 4,
    "start_time": "2022-02-08T08:14:06.549Z"
   },
   {
    "duration": 13,
    "start_time": "2022-02-08T08:14:06.848Z"
   },
   {
    "duration": 33827,
    "start_time": "2022-02-08T08:14:07.570Z"
   },
   {
    "duration": 14032,
    "start_time": "2022-02-08T08:15:29.692Z"
   },
   {
    "duration": 7456,
    "start_time": "2022-02-08T08:17:58.433Z"
   },
   {
    "duration": 7596,
    "start_time": "2022-02-08T08:18:06.183Z"
   },
   {
    "duration": 279,
    "start_time": "2022-02-08T08:18:24.554Z"
   },
   {
    "duration": 5,
    "start_time": "2022-02-08T08:19:25.118Z"
   },
   {
    "duration": 307,
    "start_time": "2022-02-08T08:20:43.167Z"
   },
   {
    "duration": 268,
    "start_time": "2022-02-08T08:26:41.631Z"
   },
   {
    "duration": 275,
    "start_time": "2022-02-08T08:26:57.209Z"
   },
   {
    "duration": 326,
    "start_time": "2022-02-08T08:28:01.344Z"
   },
   {
    "duration": 313,
    "start_time": "2022-02-08T08:28:25.362Z"
   },
   {
    "duration": 388,
    "start_time": "2022-02-08T08:28:31.303Z"
   },
   {
    "duration": 345,
    "start_time": "2022-02-08T08:29:47.075Z"
   },
   {
    "duration": 133,
    "start_time": "2022-02-08T08:38:56.128Z"
   },
   {
    "duration": 5,
    "start_time": "2022-02-08T08:38:59.484Z"
   },
   {
    "duration": 4,
    "start_time": "2022-02-08T08:39:06.330Z"
   },
   {
    "duration": 5,
    "start_time": "2022-02-08T08:40:41.573Z"
   },
   {
    "duration": 7,
    "start_time": "2022-02-08T08:40:42.463Z"
   },
   {
    "duration": 203,
    "start_time": "2022-02-08T08:41:01.460Z"
   },
   {
    "duration": 939,
    "start_time": "2022-02-08T08:41:37.002Z"
   },
   {
    "duration": 467,
    "start_time": "2022-02-08T08:42:15.796Z"
   },
   {
    "duration": 85920,
    "start_time": "2022-02-08T08:44:57.710Z"
   },
   {
    "duration": 3,
    "start_time": "2022-02-08T08:49:53.224Z"
   },
   {
    "duration": 132,
    "start_time": "2022-02-08T08:50:34.451Z"
   },
   {
    "duration": 216,
    "start_time": "2022-02-08T08:55:57.759Z"
   },
   {
    "duration": 189,
    "start_time": "2022-02-08T08:56:04.165Z"
   },
   {
    "duration": 174,
    "start_time": "2022-02-08T08:56:12.344Z"
   },
   {
    "duration": 200,
    "start_time": "2022-02-08T08:56:19.344Z"
   },
   {
    "duration": 188,
    "start_time": "2022-02-08T08:57:41.888Z"
   },
   {
    "duration": 196,
    "start_time": "2022-02-08T09:00:48.740Z"
   },
   {
    "duration": 472,
    "start_time": "2022-02-08T09:01:07.930Z"
   },
   {
    "duration": 488,
    "start_time": "2022-02-08T09:01:42.425Z"
   },
   {
    "duration": 715,
    "start_time": "2022-02-08T09:02:47.103Z"
   },
   {
    "duration": 219,
    "start_time": "2022-02-08T09:02:57.279Z"
   },
   {
    "duration": 4,
    "start_time": "2022-02-08T09:28:26.495Z"
   },
   {
    "duration": 279,
    "start_time": "2022-02-08T09:28:38.871Z"
   },
   {
    "duration": 280,
    "start_time": "2022-02-08T09:28:58.504Z"
   },
   {
    "duration": 308,
    "start_time": "2022-02-08T09:29:10.224Z"
   },
   {
    "duration": 29,
    "start_time": "2022-02-08T09:29:46.009Z"
   },
   {
    "duration": 17,
    "start_time": "2022-02-08T09:29:46.610Z"
   },
   {
    "duration": 36,
    "start_time": "2022-02-08T09:29:47.037Z"
   },
   {
    "duration": 4,
    "start_time": "2022-02-08T09:29:47.612Z"
   },
   {
    "duration": 13,
    "start_time": "2022-02-08T09:29:48.071Z"
   },
   {
    "duration": 339,
    "start_time": "2022-02-08T09:29:48.337Z"
   },
   {
    "duration": 380,
    "start_time": "2022-02-08T09:29:48.695Z"
   },
   {
    "duration": 5,
    "start_time": "2022-02-08T09:29:49.556Z"
   },
   {
    "duration": 7,
    "start_time": "2022-02-08T09:29:50.105Z"
   },
   {
    "duration": 205,
    "start_time": "2022-02-08T09:29:51.003Z"
   },
   {
    "duration": 4,
    "start_time": "2022-02-08T09:29:51.870Z"
   },
   {
    "duration": 143,
    "start_time": "2022-02-08T09:29:52.165Z"
   },
   {
    "duration": 459,
    "start_time": "2022-02-08T09:29:54.080Z"
   },
   {
    "duration": 11,
    "start_time": "2022-02-08T09:30:08.040Z"
   },
   {
    "duration": 6,
    "start_time": "2022-02-08T09:30:55.646Z"
   },
   {
    "duration": 7,
    "start_time": "2022-02-08T09:31:15.717Z"
   },
   {
    "duration": 24,
    "start_time": "2022-02-08T09:32:30.453Z"
   },
   {
    "duration": 349,
    "start_time": "2022-02-08T09:33:44.641Z"
   },
   {
    "duration": 28,
    "start_time": "2022-02-08T09:33:50.128Z"
   },
   {
    "duration": 17,
    "start_time": "2022-02-08T09:33:50.342Z"
   },
   {
    "duration": 35,
    "start_time": "2022-02-08T09:33:50.716Z"
   },
   {
    "duration": 5,
    "start_time": "2022-02-08T09:33:51.432Z"
   },
   {
    "duration": 13,
    "start_time": "2022-02-08T09:33:51.743Z"
   },
   {
    "duration": 321,
    "start_time": "2022-02-08T09:33:52.048Z"
   },
   {
    "duration": 349,
    "start_time": "2022-02-08T09:33:52.408Z"
   },
   {
    "duration": 5,
    "start_time": "2022-02-08T09:33:53.190Z"
   },
   {
    "duration": 9,
    "start_time": "2022-02-08T09:33:53.487Z"
   },
   {
    "duration": 232,
    "start_time": "2022-02-08T09:33:54.420Z"
   },
   {
    "duration": 3,
    "start_time": "2022-02-08T09:33:55.277Z"
   },
   {
    "duration": 135,
    "start_time": "2022-02-08T09:33:55.542Z"
   },
   {
    "duration": 14,
    "start_time": "2022-02-08T09:33:56.406Z"
   },
   {
    "duration": 6,
    "start_time": "2022-02-08T09:33:59.302Z"
   },
   {
    "duration": 6,
    "start_time": "2022-02-08T09:33:59.896Z"
   },
   {
    "duration": 24,
    "start_time": "2022-02-08T09:34:02.612Z"
   },
   {
    "duration": 6,
    "start_time": "2022-02-08T09:34:17.057Z"
   },
   {
    "duration": 19,
    "start_time": "2022-02-08T09:34:38.079Z"
   },
   {
    "duration": 4,
    "start_time": "2022-02-08T09:34:43.423Z"
   },
   {
    "duration": 14,
    "start_time": "2022-02-08T09:35:31.549Z"
   },
   {
    "duration": 28,
    "start_time": "2022-02-08T09:35:33.553Z"
   },
   {
    "duration": 133,
    "start_time": "2022-02-08T09:35:53.794Z"
   },
   {
    "duration": 235,
    "start_time": "2022-02-08T09:41:57.777Z"
   },
   {
    "duration": 236,
    "start_time": "2022-02-08T09:49:18.860Z"
   },
   {
    "duration": 872,
    "start_time": "2022-02-08T09:51:11.676Z"
   },
   {
    "duration": 2955,
    "start_time": "2022-02-08T09:51:35.455Z"
   },
   {
    "duration": 2845,
    "start_time": "2022-02-08T09:51:43.441Z"
   },
   {
    "duration": 238,
    "start_time": "2022-02-08T09:55:00.886Z"
   },
   {
    "duration": 109,
    "start_time": "2022-02-08T09:56:53.754Z"
   },
   {
    "duration": 142,
    "start_time": "2022-02-08T09:57:20.437Z"
   },
   {
    "duration": 100,
    "start_time": "2022-02-08T09:57:43.822Z"
   },
   {
    "duration": 28,
    "start_time": "2022-02-08T09:58:40.014Z"
   },
   {
    "duration": 16,
    "start_time": "2022-02-08T09:58:41.003Z"
   },
   {
    "duration": 35,
    "start_time": "2022-02-08T09:58:41.566Z"
   },
   {
    "duration": 4,
    "start_time": "2022-02-08T09:58:42.280Z"
   },
   {
    "duration": 12,
    "start_time": "2022-02-08T09:58:42.503Z"
   },
   {
    "duration": 309,
    "start_time": "2022-02-08T09:58:42.760Z"
   },
   {
    "duration": 336,
    "start_time": "2022-02-08T09:58:43.071Z"
   },
   {
    "duration": 5,
    "start_time": "2022-02-08T09:58:43.716Z"
   },
   {
    "duration": 10,
    "start_time": "2022-02-08T09:58:43.943Z"
   },
   {
    "duration": 212,
    "start_time": "2022-02-08T09:58:44.381Z"
   },
   {
    "duration": 4,
    "start_time": "2022-02-08T09:58:45.350Z"
   },
   {
    "duration": 142,
    "start_time": "2022-02-08T09:58:45.766Z"
   },
   {
    "duration": 15,
    "start_time": "2022-02-08T09:58:47.055Z"
   },
   {
    "duration": 6,
    "start_time": "2022-02-08T09:58:47.826Z"
   },
   {
    "duration": 6,
    "start_time": "2022-02-08T09:58:48.314Z"
   },
   {
    "duration": 32,
    "start_time": "2022-02-08T09:58:48.799Z"
   },
   {
    "duration": 6,
    "start_time": "2022-02-08T09:58:49.254Z"
   },
   {
    "duration": 17,
    "start_time": "2022-02-08T09:58:49.776Z"
   },
   {
    "duration": 30,
    "start_time": "2022-02-08T09:58:50.342Z"
   },
   {
    "duration": 136,
    "start_time": "2022-02-08T09:59:01.796Z"
   },
   {
    "duration": 238,
    "start_time": "2022-02-08T09:59:05.192Z"
   },
   {
    "duration": 131,
    "start_time": "2022-02-08T09:59:10.565Z"
   },
   {
    "duration": 94,
    "start_time": "2022-02-08T09:59:34.300Z"
   },
   {
    "duration": 12324,
    "start_time": "2022-02-08T09:59:56.439Z"
   },
   {
    "duration": 35078,
    "start_time": "2022-02-08T10:00:59.958Z"
   },
   {
    "duration": 56115,
    "start_time": "2022-02-08T10:02:08.259Z"
   },
   {
    "duration": 103,
    "start_time": "2022-02-08T10:03:59.930Z"
   },
   {
    "duration": 33738,
    "start_time": "2022-02-08T10:04:14.674Z"
   },
   {
    "duration": 39796,
    "start_time": "2022-02-08T10:05:43.704Z"
   },
   {
    "duration": 44783,
    "start_time": "2022-02-08T10:06:45.864Z"
   },
   {
    "duration": 55821,
    "start_time": "2022-02-08T10:07:50.008Z"
   },
   {
    "duration": 12107,
    "start_time": "2022-02-08T10:09:12.187Z"
   },
   {
    "duration": 12289,
    "start_time": "2022-02-08T10:10:30.145Z"
   },
   {
    "duration": 92,
    "start_time": "2022-02-08T10:10:49.845Z"
   },
   {
    "duration": 285,
    "start_time": "2022-02-08T10:11:56.742Z"
   },
   {
    "duration": 12750,
    "start_time": "2022-02-08T10:12:48.454Z"
   },
   {
    "duration": 34288,
    "start_time": "2022-02-08T10:13:54.262Z"
   },
   {
    "duration": 55656,
    "start_time": "2022-02-08T10:14:46.343Z"
   },
   {
    "duration": 76950,
    "start_time": "2022-02-08T10:16:03.443Z"
   },
   {
    "duration": 104829,
    "start_time": "2022-02-08T10:17:56.019Z"
   },
   {
    "duration": 29,
    "start_time": "2022-02-08T10:21:00.100Z"
   },
   {
    "duration": 12,
    "start_time": "2022-02-08T10:21:16.155Z"
   },
   {
    "duration": 269,
    "start_time": "2022-02-08T10:21:56.781Z"
   },
   {
    "duration": 12075,
    "start_time": "2022-02-08T10:23:26.219Z"
   },
   {
    "duration": 34398,
    "start_time": "2022-02-08T10:23:55.435Z"
   },
   {
    "duration": 56572,
    "start_time": "2022-02-08T10:24:48.396Z"
   },
   {
    "duration": 78198,
    "start_time": "2022-02-08T10:26:12.863Z"
   },
   {
    "duration": 298,
    "start_time": "2022-02-08T10:27:39.510Z"
   },
   {
    "duration": 16359,
    "start_time": "2022-02-08T10:28:14.828Z"
   },
   {
    "duration": 47052,
    "start_time": "2022-02-08T10:28:52.941Z"
   },
   {
    "duration": 77033,
    "start_time": "2022-02-08T10:30:18.077Z"
   },
   {
    "duration": 105489,
    "start_time": "2022-02-08T10:32:05.538Z"
   },
   {
    "duration": 135115,
    "start_time": "2022-02-08T10:34:16.334Z"
   },
   {
    "duration": 74003,
    "start_time": "2022-02-08T10:37:16.642Z"
   },
   {
    "duration": 70791,
    "start_time": "2022-02-08T10:39:02.436Z"
   },
   {
    "duration": 105,
    "start_time": "2022-02-08T10:41:41.824Z"
   },
   {
    "duration": 16,
    "start_time": "2022-02-08T10:41:54.560Z"
   },
   {
    "duration": 198,
    "start_time": "2022-02-08T10:42:20.094Z"
   },
   {
    "duration": 182097,
    "start_time": "2022-02-08T10:43:32.869Z"
   },
   {
    "duration": 10385,
    "start_time": "2022-02-08T10:53:02.088Z"
   },
   {
    "duration": 17,
    "start_time": "2022-02-08T10:54:13.640Z"
   },
   {
    "duration": 31,
    "start_time": "2022-02-08T10:55:10.344Z"
   },
   {
    "duration": 16,
    "start_time": "2022-02-08T10:55:10.995Z"
   },
   {
    "duration": 42,
    "start_time": "2022-02-08T10:55:11.564Z"
   },
   {
    "duration": 5,
    "start_time": "2022-02-08T10:55:12.888Z"
   },
   {
    "duration": 17,
    "start_time": "2022-02-08T10:55:13.521Z"
   },
   {
    "duration": 368,
    "start_time": "2022-02-08T10:55:14.049Z"
   },
   {
    "duration": 371,
    "start_time": "2022-02-08T10:55:14.925Z"
   },
   {
    "duration": 8,
    "start_time": "2022-02-08T10:55:16.045Z"
   },
   {
    "duration": 8,
    "start_time": "2022-02-08T10:55:16.602Z"
   },
   {
    "duration": 224,
    "start_time": "2022-02-08T10:55:17.667Z"
   },
   {
    "duration": 4,
    "start_time": "2022-02-08T10:55:20.934Z"
   },
   {
    "duration": 3,
    "start_time": "2022-02-08T10:57:38.910Z"
   },
   {
    "duration": 16,
    "start_time": "2022-02-08T10:59:19.120Z"
   },
   {
    "duration": 9,
    "start_time": "2022-02-08T10:59:21.108Z"
   },
   {
    "duration": 6,
    "start_time": "2022-02-08T10:59:43.907Z"
   },
   {
    "duration": 22,
    "start_time": "2022-02-08T11:03:47.978Z"
   },
   {
    "duration": 4,
    "start_time": "2022-02-08T11:03:56.956Z"
   },
   {
    "duration": 18,
    "start_time": "2022-02-08T11:05:04.213Z"
   },
   {
    "duration": 28,
    "start_time": "2022-02-08T11:05:25.168Z"
   },
   {
    "duration": 29,
    "start_time": "2022-02-08T11:07:04.819Z"
   },
   {
    "duration": 28,
    "start_time": "2022-02-08T11:07:15.699Z"
   },
   {
    "duration": 153,
    "start_time": "2022-02-08T11:07:25.614Z"
   },
   {
    "duration": 291,
    "start_time": "2022-02-08T11:07:50.686Z"
   },
   {
    "duration": 12841,
    "start_time": "2022-02-08T11:08:20.064Z"
   },
   {
    "duration": 2525,
    "start_time": "2022-02-08T11:08:59.126Z"
   },
   {
    "duration": 12926,
    "start_time": "2022-02-08T11:09:23.892Z"
   },
   {
    "duration": 29,
    "start_time": "2022-02-08T11:09:47.204Z"
   },
   {
    "duration": 249,
    "start_time": "2022-02-08T11:15:45.217Z"
   },
   {
    "duration": 253,
    "start_time": "2022-02-08T11:16:16.806Z"
   },
   {
    "duration": 1515,
    "start_time": "2022-02-08T11:16:42.374Z"
   },
   {
    "duration": 17,
    "start_time": "2022-02-08T11:16:43.891Z"
   },
   {
    "duration": 34,
    "start_time": "2022-02-08T11:16:43.910Z"
   },
   {
    "duration": 4,
    "start_time": "2022-02-08T11:16:43.946Z"
   },
   {
    "duration": 15,
    "start_time": "2022-02-08T11:16:43.951Z"
   },
   {
    "duration": 393,
    "start_time": "2022-02-08T11:16:44.077Z"
   },
   {
    "duration": 486,
    "start_time": "2022-02-08T11:16:44.472Z"
   },
   {
    "duration": 5,
    "start_time": "2022-02-08T11:16:45.926Z"
   },
   {
    "duration": 9,
    "start_time": "2022-02-08T11:16:46.164Z"
   },
   {
    "duration": 206,
    "start_time": "2022-02-08T11:16:46.536Z"
   },
   {
    "duration": 4,
    "start_time": "2022-02-08T11:16:46.907Z"
   },
   {
    "duration": 138,
    "start_time": "2022-02-08T11:16:47.094Z"
   },
   {
    "duration": 12,
    "start_time": "2022-02-08T11:16:47.676Z"
   },
   {
    "duration": 5,
    "start_time": "2022-02-08T11:16:47.890Z"
   },
   {
    "duration": 6,
    "start_time": "2022-02-08T11:16:48.116Z"
   },
   {
    "duration": 22,
    "start_time": "2022-02-08T11:16:48.553Z"
   },
   {
    "duration": 4,
    "start_time": "2022-02-08T11:16:48.832Z"
   },
   {
    "duration": 15,
    "start_time": "2022-02-08T11:16:49.169Z"
   },
   {
    "duration": 27,
    "start_time": "2022-02-08T11:16:49.949Z"
   },
   {
    "duration": 132,
    "start_time": "2022-02-08T11:16:51.079Z"
   },
   {
    "duration": 245,
    "start_time": "2022-02-08T11:16:58.945Z"
   },
   {
    "duration": 12294,
    "start_time": "2022-02-08T11:17:28.291Z"
   },
   {
    "duration": 243,
    "start_time": "2022-02-08T11:18:30.046Z"
   },
   {
    "duration": 60243,
    "start_time": "2022-02-08T11:19:39.795Z"
   },
   {
    "duration": 9271,
    "start_time": "2022-02-08T11:21:16.143Z"
   },
   {
    "duration": 118,
    "start_time": "2022-02-08T11:21:52.010Z"
   },
   {
    "duration": 11,
    "start_time": "2022-02-08T11:23:20.280Z"
   },
   {
    "duration": 335,
    "start_time": "2022-02-08T11:23:26.839Z"
   },
   {
    "duration": 21102,
    "start_time": "2022-02-08T11:24:47.283Z"
   },
   {
    "duration": 9061,
    "start_time": "2022-02-08T11:25:30.643Z"
   },
   {
    "duration": 8849,
    "start_time": "2022-02-08T11:26:30.473Z"
   },
   {
    "duration": 108,
    "start_time": "2022-02-08T11:26:39.327Z"
   },
   {
    "duration": 12,
    "start_time": "2022-02-08T11:28:43.692Z"
   },
   {
    "duration": 144,
    "start_time": "2022-02-08T11:28:51.869Z"
   },
   {
    "duration": 2730,
    "start_time": "2022-02-08T11:29:53.777Z"
   },
   {
    "duration": 61,
    "start_time": "2022-02-08T11:30:29.173Z"
   },
   {
    "duration": 28,
    "start_time": "2022-02-08T11:50:27.873Z"
   },
   {
    "duration": 16,
    "start_time": "2022-02-08T11:50:27.903Z"
   },
   {
    "duration": 40,
    "start_time": "2022-02-08T11:50:27.920Z"
   },
   {
    "duration": 4,
    "start_time": "2022-02-08T11:50:27.961Z"
   },
   {
    "duration": 15,
    "start_time": "2022-02-08T11:50:27.966Z"
   },
   {
    "duration": 388,
    "start_time": "2022-02-08T11:50:27.982Z"
   },
   {
    "duration": 357,
    "start_time": "2022-02-08T11:50:28.372Z"
   },
   {
    "duration": 6,
    "start_time": "2022-02-08T11:50:28.732Z"
   },
   {
    "duration": 13,
    "start_time": "2022-02-08T11:50:28.740Z"
   },
   {
    "duration": 256,
    "start_time": "2022-02-08T11:50:28.755Z"
   },
   {
    "duration": 3,
    "start_time": "2022-02-08T11:50:29.013Z"
   },
   {
    "duration": 163,
    "start_time": "2022-02-08T11:50:29.018Z"
   },
   {
    "duration": 13,
    "start_time": "2022-02-08T11:50:29.183Z"
   },
   {
    "duration": 7,
    "start_time": "2022-02-08T11:50:29.198Z"
   },
   {
    "duration": 23,
    "start_time": "2022-02-08T11:50:29.207Z"
   },
   {
    "duration": 34,
    "start_time": "2022-02-08T11:50:29.232Z"
   },
   {
    "duration": 3,
    "start_time": "2022-02-08T11:50:29.268Z"
   },
   {
    "duration": 15,
    "start_time": "2022-02-08T11:50:29.273Z"
   },
   {
    "duration": 59,
    "start_time": "2022-02-08T11:50:29.289Z"
   },
   {
    "duration": 146,
    "start_time": "2022-02-08T11:50:29.350Z"
   },
   {
    "duration": 261,
    "start_time": "2022-02-08T11:50:29.498Z"
   },
   {
    "duration": 14259,
    "start_time": "2022-02-08T11:50:29.761Z"
   },
   {
    "duration": 33,
    "start_time": "2022-02-08T11:50:44.028Z"
   },
   {
    "duration": 367,
    "start_time": "2022-02-08T11:50:44.128Z"
   },
   {
    "duration": 9182,
    "start_time": "2022-02-08T11:50:44.497Z"
   },
   {
    "duration": 51,
    "start_time": "2022-02-08T11:50:53.681Z"
   },
   {
    "duration": 104,
    "start_time": "2022-02-08T11:50:53.734Z"
   },
   {
    "duration": 404,
    "start_time": "2022-02-08T11:50:53.840Z"
   },
   {
    "duration": 9262,
    "start_time": "2022-02-08T11:50:54.246Z"
   },
   {
    "duration": 119,
    "start_time": "2022-02-08T11:51:03.510Z"
   },
   {
    "duration": 96,
    "start_time": "2022-02-08T11:51:03.631Z"
   },
   {
    "duration": 153,
    "start_time": "2022-02-08T11:51:03.729Z"
   },
   {
    "duration": 2675,
    "start_time": "2022-02-08T11:51:03.884Z"
   },
   {
    "duration": 67,
    "start_time": "2022-02-08T11:51:06.561Z"
   },
   {
    "duration": 335,
    "start_time": "2022-02-08T11:51:06.630Z"
   },
   {
    "duration": 221,
    "start_time": "2022-02-08T11:52:37.156Z"
   },
   {
    "duration": 225,
    "start_time": "2022-02-08T11:53:12.334Z"
   },
   {
    "duration": 8901,
    "start_time": "2022-02-08T12:00:50.903Z"
   },
   {
    "duration": 8701,
    "start_time": "2022-02-08T12:05:12.428Z"
   },
   {
    "duration": 30,
    "start_time": "2022-02-08T12:08:01.280Z"
   },
   {
    "duration": 314,
    "start_time": "2022-02-08T12:08:21.887Z"
   },
   {
    "duration": 6,
    "start_time": "2022-02-08T12:15:01.216Z"
   },
   {
    "duration": 8701,
    "start_time": "2022-02-08T12:18:43.213Z"
   },
   {
    "duration": 9040,
    "start_time": "2022-02-08T12:19:39.637Z"
   },
   {
    "duration": 9127,
    "start_time": "2022-02-08T12:20:06.258Z"
   },
   {
    "duration": 87,
    "start_time": "2022-02-08T12:21:40.157Z"
   },
   {
    "duration": 96,
    "start_time": "2022-02-08T12:21:44.546Z"
   },
   {
    "duration": 6,
    "start_time": "2022-02-08T12:21:50.058Z"
   },
   {
    "duration": 28,
    "start_time": "2022-02-08T12:31:50.181Z"
   },
   {
    "duration": 16,
    "start_time": "2022-02-08T12:31:50.992Z"
   },
   {
    "duration": 34,
    "start_time": "2022-02-08T12:31:52.188Z"
   },
   {
    "duration": 4,
    "start_time": "2022-02-08T12:31:53.973Z"
   },
   {
    "duration": 12,
    "start_time": "2022-02-08T12:31:54.495Z"
   },
   {
    "duration": 273,
    "start_time": "2022-02-08T12:31:55.051Z"
   },
   {
    "duration": 715,
    "start_time": "2022-02-08T12:32:03.480Z"
   },
   {
    "duration": 743,
    "start_time": "2022-02-08T12:36:15.958Z"
   },
   {
    "duration": 87255,
    "start_time": "2022-02-08T12:39:57.773Z"
   },
   {
    "duration": 516,
    "start_time": "2022-02-08T12:42:20.891Z"
   },
   {
    "duration": 601,
    "start_time": "2022-02-08T12:43:45.051Z"
   },
   {
    "duration": 386,
    "start_time": "2022-02-08T12:43:55.239Z"
   },
   {
    "duration": 347,
    "start_time": "2022-02-08T12:44:15.826Z"
   },
   {
    "duration": -110,
    "start_time": "2022-02-08T12:47:52.013Z"
   },
   {
    "duration": -131,
    "start_time": "2022-02-08T12:47:52.035Z"
   },
   {
    "duration": -136,
    "start_time": "2022-02-08T12:47:52.041Z"
   },
   {
    "duration": 30,
    "start_time": "2022-02-08T12:47:57.561Z"
   },
   {
    "duration": 16,
    "start_time": "2022-02-08T12:47:58.466Z"
   },
   {
    "duration": 35,
    "start_time": "2022-02-08T12:47:59.663Z"
   },
   {
    "duration": 4,
    "start_time": "2022-02-08T12:48:01.066Z"
   },
   {
    "duration": 12,
    "start_time": "2022-02-08T12:48:01.529Z"
   },
   {
    "duration": 725,
    "start_time": "2022-02-08T12:48:05.288Z"
   },
   {
    "duration": 351,
    "start_time": "2022-02-08T12:48:07.295Z"
   },
   {
    "duration": 219,
    "start_time": "2022-02-08T12:48:08.968Z"
   },
   {
    "duration": 95,
    "start_time": "2022-02-08T12:49:48.858Z"
   },
   {
    "duration": 1132,
    "start_time": "2022-02-08T12:51:37.640Z"
   },
   {
    "duration": 19,
    "start_time": "2022-02-08T12:51:38.775Z"
   },
   {
    "duration": 35,
    "start_time": "2022-02-08T12:51:38.796Z"
   },
   {
    "duration": 4,
    "start_time": "2022-02-08T12:51:38.833Z"
   },
   {
    "duration": 16,
    "start_time": "2022-02-08T12:51:38.839Z"
   },
   {
    "duration": 978,
    "start_time": "2022-02-08T12:51:38.857Z"
   },
   {
    "duration": 353,
    "start_time": "2022-02-08T12:51:39.837Z"
   },
   {
    "duration": 384,
    "start_time": "2022-02-08T12:51:40.192Z"
   },
   {
    "duration": 4,
    "start_time": "2022-02-08T12:51:40.578Z"
   },
   {
    "duration": 10,
    "start_time": "2022-02-08T12:51:40.583Z"
   },
   {
    "duration": 268,
    "start_time": "2022-02-08T12:51:40.594Z"
   },
   {
    "duration": 3,
    "start_time": "2022-02-08T12:51:40.863Z"
   },
   {
    "duration": 145,
    "start_time": "2022-02-08T12:51:40.868Z"
   },
   {
    "duration": 16,
    "start_time": "2022-02-08T12:51:41.015Z"
   },
   {
    "duration": 7,
    "start_time": "2022-02-08T12:51:41.032Z"
   },
   {
    "duration": 6,
    "start_time": "2022-02-08T12:51:41.040Z"
   },
   {
    "duration": 22,
    "start_time": "2022-02-08T12:51:41.048Z"
   },
   {
    "duration": 4,
    "start_time": "2022-02-08T12:51:41.071Z"
   },
   {
    "duration": 15,
    "start_time": "2022-02-08T12:51:41.076Z"
   },
   {
    "duration": 61,
    "start_time": "2022-02-08T12:51:41.092Z"
   },
   {
    "duration": 143,
    "start_time": "2022-02-08T12:51:41.154Z"
   },
   {
    "duration": 262,
    "start_time": "2022-02-08T12:51:41.299Z"
   },
   {
    "duration": 12367,
    "start_time": "2022-02-08T12:51:41.564Z"
   },
   {
    "duration": 94,
    "start_time": "2022-02-08T12:51:53.934Z"
   },
   {
    "duration": 339,
    "start_time": "2022-02-08T12:51:54.030Z"
   },
   {
    "duration": 8860,
    "start_time": "2022-02-08T12:51:54.371Z"
   },
   {
    "duration": 95,
    "start_time": "2022-02-08T12:52:03.233Z"
   },
   {
    "duration": 106,
    "start_time": "2022-02-08T12:52:03.330Z"
   },
   {
    "duration": 303,
    "start_time": "2022-02-08T12:52:03.438Z"
   },
   {
    "duration": 8753,
    "start_time": "2022-02-08T12:52:03.742Z"
   },
   {
    "duration": 36,
    "start_time": "2022-02-08T12:52:12.497Z"
   },
   {
    "duration": 195,
    "start_time": "2022-02-08T12:52:12.535Z"
   },
   {
    "duration": 141,
    "start_time": "2022-02-08T12:52:12.732Z"
   },
   {
    "duration": 2484,
    "start_time": "2022-02-08T12:52:12.875Z"
   },
   {
    "duration": 66,
    "start_time": "2022-02-08T12:52:15.361Z"
   },
   {
    "duration": 318,
    "start_time": "2022-02-08T12:52:15.429Z"
   },
   {
    "duration": 9340,
    "start_time": "2022-02-08T12:52:15.749Z"
   },
   {
    "duration": 8866,
    "start_time": "2022-02-08T12:52:25.091Z"
   },
   {
    "duration": 7,
    "start_time": "2022-02-08T12:52:33.959Z"
   },
   {
    "duration": 1472,
    "start_time": "2022-02-14T07:52:25.126Z"
   },
   {
    "duration": 665,
    "start_time": "2022-02-14T07:54:13.666Z"
   },
   {
    "duration": 20,
    "start_time": "2022-02-14T07:55:24.595Z"
   },
   {
    "duration": 34,
    "start_time": "2022-02-14T07:55:27.325Z"
   },
   {
    "duration": 4,
    "start_time": "2022-02-14T08:00:28.953Z"
   },
   {
    "duration": 12,
    "start_time": "2022-02-14T08:01:26.300Z"
   },
   {
    "duration": 731,
    "start_time": "2022-02-14T08:01:27.570Z"
   },
   {
    "duration": 319,
    "start_time": "2022-02-14T08:01:29.362Z"
   },
   {
    "duration": 348,
    "start_time": "2022-02-14T08:01:29.930Z"
   },
   {
    "duration": 4,
    "start_time": "2022-02-14T08:01:31.044Z"
   },
   {
    "duration": 7,
    "start_time": "2022-02-14T08:01:31.443Z"
   },
   {
    "duration": 243,
    "start_time": "2022-02-14T08:01:32.418Z"
   },
   {
    "duration": 4,
    "start_time": "2022-02-14T08:01:33.827Z"
   },
   {
    "duration": 128,
    "start_time": "2022-02-14T08:01:34.253Z"
   },
   {
    "duration": 28,
    "start_time": "2022-02-14T08:20:34.585Z"
   },
   {
    "duration": 18,
    "start_time": "2022-02-14T08:20:36.044Z"
   },
   {
    "duration": 35,
    "start_time": "2022-02-14T08:20:36.571Z"
   },
   {
    "duration": 5,
    "start_time": "2022-02-14T08:20:38.666Z"
   },
   {
    "duration": 20,
    "start_time": "2022-02-14T08:20:39.928Z"
   },
   {
    "duration": 753,
    "start_time": "2022-02-14T08:20:40.195Z"
   },
   {
    "duration": 352,
    "start_time": "2022-02-14T08:20:40.950Z"
   },
   {
    "duration": 326,
    "start_time": "2022-02-14T08:20:42.162Z"
   },
   {
    "duration": 5,
    "start_time": "2022-02-14T08:20:45.343Z"
   },
   {
    "duration": 7,
    "start_time": "2022-02-14T08:20:46.262Z"
   },
   {
    "duration": 195,
    "start_time": "2022-02-14T08:20:47.896Z"
   },
   {
    "duration": 3,
    "start_time": "2022-02-14T08:20:52.164Z"
   },
   {
    "duration": 134,
    "start_time": "2022-02-14T08:20:52.622Z"
   },
   {
    "duration": 289,
    "start_time": "2022-02-14T08:21:04.359Z"
   },
   {
    "duration": 5,
    "start_time": "2022-02-14T08:21:42.149Z"
   },
   {
    "duration": 12,
    "start_time": "2022-02-14T08:22:15.524Z"
   },
   {
    "duration": 7,
    "start_time": "2022-02-14T08:23:32.635Z"
   },
   {
    "duration": 30,
    "start_time": "2022-02-14T08:24:11.331Z"
   },
   {
    "duration": 16,
    "start_time": "2022-02-14T08:24:11.838Z"
   },
   {
    "duration": 35,
    "start_time": "2022-02-14T08:24:12.234Z"
   },
   {
    "duration": 4,
    "start_time": "2022-02-14T08:24:13.711Z"
   },
   {
    "duration": 13,
    "start_time": "2022-02-14T08:24:14.311Z"
   },
   {
    "duration": 767,
    "start_time": "2022-02-14T08:24:15.420Z"
   },
   {
    "duration": 387,
    "start_time": "2022-02-14T08:24:16.189Z"
   },
   {
    "duration": 435,
    "start_time": "2022-02-14T08:24:16.578Z"
   },
   {
    "duration": 5,
    "start_time": "2022-02-14T08:24:17.172Z"
   },
   {
    "duration": 8,
    "start_time": "2022-02-14T08:24:18.062Z"
   },
   {
    "duration": 243,
    "start_time": "2022-02-14T08:24:19.780Z"
   },
   {
    "duration": 3,
    "start_time": "2022-02-14T08:24:21.384Z"
   },
   {
    "duration": 131,
    "start_time": "2022-02-14T08:24:21.739Z"
   },
   {
    "duration": 4,
    "start_time": "2022-02-14T08:24:24.465Z"
   },
   {
    "duration": 12,
    "start_time": "2022-02-14T08:24:26.391Z"
   },
   {
    "duration": 7,
    "start_time": "2022-02-14T08:24:27.921Z"
   },
   {
    "duration": 191,
    "start_time": "2022-02-14T08:25:33.596Z"
   },
   {
    "duration": 28,
    "start_time": "2022-02-14T08:28:47.106Z"
   },
   {
    "duration": 16,
    "start_time": "2022-02-14T08:28:47.685Z"
   },
   {
    "duration": 46,
    "start_time": "2022-02-14T08:28:48.160Z"
   },
   {
    "duration": 4,
    "start_time": "2022-02-14T08:28:49.934Z"
   },
   {
    "duration": 12,
    "start_time": "2022-02-14T08:28:50.788Z"
   },
   {
    "duration": 726,
    "start_time": "2022-02-14T08:28:51.382Z"
   },
   {
    "duration": 352,
    "start_time": "2022-02-14T08:28:52.110Z"
   },
   {
    "duration": 331,
    "start_time": "2022-02-14T08:28:52.463Z"
   },
   {
    "duration": 5,
    "start_time": "2022-02-14T08:28:57.457Z"
   },
   {
    "duration": 7,
    "start_time": "2022-02-14T08:29:01.621Z"
   },
   {
    "duration": 194,
    "start_time": "2022-02-14T08:29:02.643Z"
   },
   {
    "duration": 5,
    "start_time": "2022-02-14T08:29:06.279Z"
   },
   {
    "duration": 148,
    "start_time": "2022-02-14T08:29:06.735Z"
   },
   {
    "duration": 4,
    "start_time": "2022-02-14T08:29:10.692Z"
   },
   {
    "duration": 11,
    "start_time": "2022-02-14T08:29:11.822Z"
   },
   {
    "duration": 6,
    "start_time": "2022-02-14T08:29:13.096Z"
   },
   {
    "duration": 263,
    "start_time": "2022-02-14T08:29:15.686Z"
   },
   {
    "duration": 39,
    "start_time": "2022-02-14T08:43:20.121Z"
   },
   {
    "duration": 17,
    "start_time": "2022-02-14T08:43:20.576Z"
   },
   {
    "duration": 35,
    "start_time": "2022-02-14T08:43:20.982Z"
   },
   {
    "duration": 4,
    "start_time": "2022-02-14T08:43:22.377Z"
   },
   {
    "duration": 12,
    "start_time": "2022-02-14T08:43:23.297Z"
   },
   {
    "duration": 740,
    "start_time": "2022-02-14T08:43:23.539Z"
   },
   {
    "duration": 339,
    "start_time": "2022-02-14T08:43:24.281Z"
   },
   {
    "duration": 328,
    "start_time": "2022-02-14T08:43:24.621Z"
   },
   {
    "duration": 4,
    "start_time": "2022-02-14T08:43:24.951Z"
   },
   {
    "duration": 19,
    "start_time": "2022-02-14T08:43:24.956Z"
   },
   {
    "duration": 196,
    "start_time": "2022-02-14T08:43:27.274Z"
   },
   {
    "duration": 3,
    "start_time": "2022-02-14T08:43:32.645Z"
   },
   {
    "duration": 127,
    "start_time": "2022-02-14T08:43:32.905Z"
   },
   {
    "duration": 5,
    "start_time": "2022-02-14T08:43:59.230Z"
   },
   {
    "duration": 12,
    "start_time": "2022-02-14T08:44:01.492Z"
   },
   {
    "duration": 7,
    "start_time": "2022-02-14T08:44:01.976Z"
   },
   {
    "duration": 948,
    "start_time": "2022-02-14T08:44:04.323Z"
   },
   {
    "duration": 28,
    "start_time": "2022-02-14T08:47:52.360Z"
   },
   {
    "duration": 18,
    "start_time": "2022-02-14T08:47:52.821Z"
   },
   {
    "duration": 118,
    "start_time": "2022-02-14T08:47:53.168Z"
   },
   {
    "duration": 4,
    "start_time": "2022-02-14T08:47:54.127Z"
   },
   {
    "duration": 12,
    "start_time": "2022-02-14T08:47:54.446Z"
   },
   {
    "duration": 729,
    "start_time": "2022-02-14T08:47:54.617Z"
   },
   {
    "duration": 343,
    "start_time": "2022-02-14T08:47:55.348Z"
   },
   {
    "duration": 374,
    "start_time": "2022-02-14T08:47:55.693Z"
   },
   {
    "duration": 5,
    "start_time": "2022-02-14T08:47:56.456Z"
   },
   {
    "duration": 8,
    "start_time": "2022-02-14T08:47:56.681Z"
   },
   {
    "duration": 195,
    "start_time": "2022-02-14T08:47:57.439Z"
   },
   {
    "duration": 4,
    "start_time": "2022-02-14T08:47:58.333Z"
   },
   {
    "duration": 137,
    "start_time": "2022-02-14T08:47:58.767Z"
   },
   {
    "duration": 12,
    "start_time": "2022-02-14T08:48:00.053Z"
   },
   {
    "duration": 7,
    "start_time": "2022-02-14T08:48:00.676Z"
   },
   {
    "duration": 195,
    "start_time": "2022-02-14T08:48:07.019Z"
   },
   {
    "duration": 510,
    "start_time": "2022-02-14T08:55:22.659Z"
   },
   {
    "duration": 322,
    "start_time": "2022-02-14T08:55:37.656Z"
   },
   {
    "duration": 298,
    "start_time": "2022-02-14T08:57:04.514Z"
   },
   {
    "duration": 3,
    "start_time": "2022-02-14T09:05:51.862Z"
   },
   {
    "duration": 319,
    "start_time": "2022-02-14T09:09:09.183Z"
   },
   {
    "duration": 105,
    "start_time": "2022-02-14T09:09:52.264Z"
   },
   {
    "duration": 3,
    "start_time": "2022-02-14T09:11:23.549Z"
   },
   {
    "duration": 147,
    "start_time": "2022-02-14T09:11:25.607Z"
   },
   {
    "duration": 6,
    "start_time": "2022-02-14T09:11:41.747Z"
   },
   {
    "duration": 3,
    "start_time": "2022-02-14T09:13:53.051Z"
   },
   {
    "duration": 4490,
    "start_time": "2022-02-14T09:13:59.984Z"
   },
   {
    "duration": 6,
    "start_time": "2022-02-14T09:14:05.845Z"
   },
   {
    "duration": 125,
    "start_time": "2022-02-14T09:14:11.458Z"
   },
   {
    "duration": 11,
    "start_time": "2022-02-14T09:14:41.878Z"
   },
   {
    "duration": 6,
    "start_time": "2022-02-14T09:49:53.443Z"
   },
   {
    "duration": 6,
    "start_time": "2022-02-14T09:49:57.039Z"
   },
   {
    "duration": 143,
    "start_time": "2022-02-14T09:49:58.539Z"
   },
   {
    "duration": 28,
    "start_time": "2022-02-14T09:50:06.932Z"
   },
   {
    "duration": 17,
    "start_time": "2022-02-14T09:50:07.507Z"
   },
   {
    "duration": 125,
    "start_time": "2022-02-14T09:50:08.000Z"
   },
   {
    "duration": 4,
    "start_time": "2022-02-14T09:50:09.395Z"
   },
   {
    "duration": 13,
    "start_time": "2022-02-14T09:50:09.905Z"
   },
   {
    "duration": 731,
    "start_time": "2022-02-14T09:50:10.176Z"
   },
   {
    "duration": 359,
    "start_time": "2022-02-14T09:50:10.909Z"
   },
   {
    "duration": 342,
    "start_time": "2022-02-14T09:50:11.270Z"
   },
   {
    "duration": 4,
    "start_time": "2022-02-14T09:50:20.733Z"
   },
   {
    "duration": 7,
    "start_time": "2022-02-14T09:50:21.261Z"
   },
   {
    "duration": 197,
    "start_time": "2022-02-14T09:50:21.771Z"
   },
   {
    "duration": 3,
    "start_time": "2022-02-14T09:50:23.130Z"
   },
   {
    "duration": 131,
    "start_time": "2022-02-14T09:50:23.431Z"
   },
   {
    "duration": 11,
    "start_time": "2022-02-14T09:50:29.562Z"
   },
   {
    "duration": 272,
    "start_time": "2022-02-14T10:11:24.985Z"
   },
   {
    "duration": 30,
    "start_time": "2022-02-14T10:12:23.796Z"
   },
   {
    "duration": 19,
    "start_time": "2022-02-14T10:12:24.509Z"
   },
   {
    "duration": 34,
    "start_time": "2022-02-14T10:12:24.897Z"
   },
   {
    "duration": 4,
    "start_time": "2022-02-14T10:12:25.983Z"
   },
   {
    "duration": 12,
    "start_time": "2022-02-14T10:12:26.398Z"
   },
   {
    "duration": 745,
    "start_time": "2022-02-14T10:12:27.049Z"
   },
   {
    "duration": 377,
    "start_time": "2022-02-14T10:12:27.795Z"
   },
   {
    "duration": 329,
    "start_time": "2022-02-14T10:12:28.174Z"
   },
   {
    "duration": 4,
    "start_time": "2022-02-14T10:12:28.522Z"
   },
   {
    "duration": 7,
    "start_time": "2022-02-14T10:12:28.865Z"
   },
   {
    "duration": 193,
    "start_time": "2022-02-14T10:12:30.182Z"
   },
   {
    "duration": 3,
    "start_time": "2022-02-14T10:12:30.629Z"
   },
   {
    "duration": 134,
    "start_time": "2022-02-14T10:12:30.918Z"
   },
   {
    "duration": 11,
    "start_time": "2022-02-14T10:12:32.479Z"
   },
   {
    "duration": 9,
    "start_time": "2022-02-14T10:12:35.032Z"
   },
   {
    "duration": 6,
    "start_time": "2022-02-14T10:12:40.977Z"
   },
   {
    "duration": 5,
    "start_time": "2022-02-14T10:12:41.051Z"
   },
   {
    "duration": 193,
    "start_time": "2022-02-14T10:12:44.197Z"
   },
   {
    "duration": 5,
    "start_time": "2022-02-14T10:13:55.803Z"
   },
   {
    "duration": 7,
    "start_time": "2022-02-14T10:13:56.730Z"
   },
   {
    "duration": 5,
    "start_time": "2022-02-14T10:13:57.244Z"
   },
   {
    "duration": 309,
    "start_time": "2022-02-14T10:14:01.678Z"
   },
   {
    "duration": 193,
    "start_time": "2022-02-14T10:20:43.718Z"
   },
   {
    "duration": 12,
    "start_time": "2022-02-14T10:21:04.375Z"
   },
   {
    "duration": 6,
    "start_time": "2022-02-14T10:23:25.395Z"
   },
   {
    "duration": 5,
    "start_time": "2022-02-14T10:23:26.465Z"
   },
   {
    "duration": 23,
    "start_time": "2022-02-14T10:23:38.832Z"
   },
   {
    "duration": 4,
    "start_time": "2022-02-14T10:23:40.279Z"
   },
   {
    "duration": 14,
    "start_time": "2022-02-14T10:23:43.046Z"
   },
   {
    "duration": 31,
    "start_time": "2022-02-14T10:24:36.560Z"
   },
   {
    "duration": 29,
    "start_time": "2022-02-14T10:24:46.583Z"
   },
   {
    "duration": 128,
    "start_time": "2022-02-14T10:24:51.983Z"
   },
   {
    "duration": 306,
    "start_time": "2022-02-14T10:25:22.051Z"
   },
   {
    "duration": 12647,
    "start_time": "2022-02-14T10:25:39.005Z"
   },
   {
    "duration": 23,
    "start_time": "2022-02-14T10:25:59.894Z"
   },
   {
    "duration": 257,
    "start_time": "2022-02-14T10:27:28.478Z"
   },
   {
    "duration": 8587,
    "start_time": "2022-02-14T10:28:04.942Z"
   },
   {
    "duration": 49,
    "start_time": "2022-02-14T10:28:26.679Z"
   },
   {
    "duration": 11,
    "start_time": "2022-02-14T10:28:58.284Z"
   },
   {
    "duration": 332,
    "start_time": "2022-02-14T10:29:12.673Z"
   },
   {
    "duration": 8983,
    "start_time": "2022-02-14T10:29:18.354Z"
   },
   {
    "duration": 26,
    "start_time": "2022-02-14T10:29:40.186Z"
   },
   {
    "duration": 12,
    "start_time": "2022-02-14T10:30:45.315Z"
   },
   {
    "duration": 137,
    "start_time": "2022-02-14T10:30:53.410Z"
   },
   {
    "duration": 2536,
    "start_time": "2022-02-14T10:31:00.499Z"
   },
   {
    "duration": 16,
    "start_time": "2022-02-14T10:31:10.303Z"
   },
   {
    "duration": 215,
    "start_time": "2022-02-14T10:32:01.068Z"
   },
   {
    "duration": 478,
    "start_time": "2022-02-14T10:37:01.620Z"
   },
   {
    "duration": 217,
    "start_time": "2022-02-14T10:38:14.961Z"
   },
   {
    "duration": 632,
    "start_time": "2022-02-14T10:38:50.828Z"
   },
   {
    "duration": 5,
    "start_time": "2022-02-14T10:40:33.885Z"
   },
   {
    "duration": 18,
    "start_time": "2022-02-14T10:52:04.179Z"
   },
   {
    "duration": 166,
    "start_time": "2022-02-14T10:53:21.411Z"
   },
   {
    "duration": 192,
    "start_time": "2022-02-14T10:53:30.901Z"
   },
   {
    "duration": 221,
    "start_time": "2022-02-14T10:55:57.355Z"
   },
   {
    "duration": 275,
    "start_time": "2022-02-14T10:58:27.204Z"
   },
   {
    "duration": 269,
    "start_time": "2022-02-14T10:59:15.664Z"
   },
   {
    "duration": 309,
    "start_time": "2022-02-14T10:59:32.773Z"
   },
   {
    "duration": 596,
    "start_time": "2022-02-14T11:02:32.045Z"
   },
   {
    "duration": 381,
    "start_time": "2022-02-14T11:02:48.307Z"
   },
   {
    "duration": 372,
    "start_time": "2022-02-14T11:03:03.771Z"
   },
   {
    "duration": 216,
    "start_time": "2022-02-14T11:03:20.894Z"
   },
   {
    "duration": 15,
    "start_time": "2022-02-14T11:05:23.452Z"
   },
   {
    "duration": 222,
    "start_time": "2022-02-14T11:05:28.198Z"
   },
   {
    "duration": 14,
    "start_time": "2022-02-14T11:05:34.291Z"
   },
   {
    "duration": 235,
    "start_time": "2022-02-14T11:05:34.700Z"
   },
   {
    "duration": 213,
    "start_time": "2022-02-14T11:06:47.491Z"
   },
   {
    "duration": 244,
    "start_time": "2022-02-14T11:06:53.683Z"
   },
   {
    "duration": 230,
    "start_time": "2022-02-14T11:15:30.998Z"
   },
   {
    "duration": 218,
    "start_time": "2022-02-14T11:18:40.918Z"
   },
   {
    "duration": 29,
    "start_time": "2022-02-14T11:20:19.655Z"
   },
   {
    "duration": 17,
    "start_time": "2022-02-14T11:20:19.685Z"
   },
   {
    "duration": 35,
    "start_time": "2022-02-14T11:20:19.704Z"
   },
   {
    "duration": 4,
    "start_time": "2022-02-14T11:20:19.741Z"
   },
   {
    "duration": 36,
    "start_time": "2022-02-14T11:20:19.747Z"
   },
   {
    "duration": 873,
    "start_time": "2022-02-14T11:20:19.785Z"
   },
   {
    "duration": 330,
    "start_time": "2022-02-14T11:20:20.659Z"
   },
   {
    "duration": 360,
    "start_time": "2022-02-14T11:20:20.991Z"
   },
   {
    "duration": 4,
    "start_time": "2022-02-14T11:20:21.353Z"
   },
   {
    "duration": 8,
    "start_time": "2022-02-14T11:20:21.358Z"
   },
   {
    "duration": 209,
    "start_time": "2022-02-14T11:20:21.368Z"
   },
   {
    "duration": 3,
    "start_time": "2022-02-14T11:20:21.579Z"
   },
   {
    "duration": 146,
    "start_time": "2022-02-14T11:20:21.583Z"
   },
   {
    "duration": 4,
    "start_time": "2022-02-14T11:20:21.730Z"
   },
   {
    "duration": 8,
    "start_time": "2022-02-14T11:20:21.736Z"
   },
   {
    "duration": 207,
    "start_time": "2022-02-14T11:20:21.745Z"
   },
   {
    "duration": 11,
    "start_time": "2022-02-14T11:20:21.954Z"
   },
   {
    "duration": 7,
    "start_time": "2022-02-14T11:20:21.966Z"
   },
   {
    "duration": 7,
    "start_time": "2022-02-14T11:20:21.975Z"
   },
   {
    "duration": 23,
    "start_time": "2022-02-14T11:20:21.983Z"
   },
   {
    "duration": 20,
    "start_time": "2022-02-14T11:20:22.008Z"
   },
   {
    "duration": 13,
    "start_time": "2022-02-14T11:20:22.030Z"
   },
   {
    "duration": 29,
    "start_time": "2022-02-14T11:20:22.046Z"
   },
   {
    "duration": 165,
    "start_time": "2022-02-14T11:20:22.077Z"
   },
   {
    "duration": 264,
    "start_time": "2022-02-14T11:20:22.244Z"
   },
   {
    "duration": 12255,
    "start_time": "2022-02-14T11:20:22.510Z"
   },
   {
    "duration": 66,
    "start_time": "2022-02-14T11:20:34.767Z"
   },
   {
    "duration": 394,
    "start_time": "2022-02-14T11:20:34.835Z"
   },
   {
    "duration": 8638,
    "start_time": "2022-02-14T11:20:35.230Z"
   },
   {
    "duration": 61,
    "start_time": "2022-02-14T11:20:43.870Z"
   },
   {
    "duration": 103,
    "start_time": "2022-02-14T11:20:43.934Z"
   },
   {
    "duration": 437,
    "start_time": "2022-02-14T11:20:44.038Z"
   },
   {
    "duration": 8707,
    "start_time": "2022-02-14T11:20:44.476Z"
   },
   {
    "duration": 49,
    "start_time": "2022-02-14T11:20:53.185Z"
   },
   {
    "duration": 191,
    "start_time": "2022-02-14T11:20:53.236Z"
   },
   {
    "duration": 149,
    "start_time": "2022-02-14T11:20:53.429Z"
   },
   {
    "duration": 2783,
    "start_time": "2022-02-14T11:20:53.579Z"
   },
   {
    "duration": 65,
    "start_time": "2022-02-14T11:20:56.363Z"
   },
   {
    "duration": 329,
    "start_time": "2022-02-14T11:20:56.430Z"
   },
   {
    "duration": 525,
    "start_time": "2022-02-14T11:20:56.761Z"
   },
   {
    "duration": 571,
    "start_time": "2022-02-14T11:20:57.287Z"
   },
   {
    "duration": 5,
    "start_time": "2022-02-14T11:20:57.860Z"
   },
   {
    "duration": 16,
    "start_time": "2022-02-14T11:20:57.867Z"
   },
   {
    "duration": 249,
    "start_time": "2022-02-14T11:20:57.884Z"
   }
  ],
  "kernelspec": {
   "display_name": "Python 3 (ipykernel)",
   "language": "python",
   "name": "python3"
  },
  "language_info": {
   "codemirror_mode": {
    "name": "ipython",
    "version": 3
   },
   "file_extension": ".py",
   "mimetype": "text/x-python",
   "name": "python",
   "nbconvert_exporter": "python",
   "pygments_lexer": "ipython3",
   "version": "3.9.7"
  },
  "toc": {
   "base_numbering": 1,
   "nav_menu": {},
   "number_sections": true,
   "sideBar": true,
   "skip_h1_title": true,
   "title_cell": "Содержание",
   "title_sidebar": "Contents",
   "toc_cell": true,
   "toc_position": {
    "height": "calc(100% - 180px)",
    "left": "10px",
    "top": "150px",
    "width": "366.391px"
   },
   "toc_section_display": true,
   "toc_window_display": true
  }
 },
 "nbformat": 4,
 "nbformat_minor": 2
}
